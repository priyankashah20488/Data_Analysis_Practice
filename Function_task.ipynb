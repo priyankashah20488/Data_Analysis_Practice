{
 "cells": [
  {
   "cell_type": "code",
   "execution_count": 16,
   "id": "5aedd28a",
   "metadata": {},
   "outputs": [
    {
     "name": "stdout",
     "output_type": "stream",
     "text": [
      "******7894\n"
     ]
    }
   ],
   "source": [
    "#alternate of zfill\n",
    "#sample input - 7894\n",
    "#sample output- ******7894\n",
    "#length = 10\n",
    "\n",
    "num = '7894'\n",
    "length = 10\n",
    "a = len(num)\n",
    "b= length-a\n",
    "\n",
    "print('*'* b+num)"
   ]
  },
  {
   "cell_type": "code",
   "execution_count": 17,
   "id": "8d08ce78",
   "metadata": {},
   "outputs": [
    {
     "name": "stdout",
     "output_type": "stream",
     "text": [
      "enter number:3432\n"
     ]
    }
   ],
   "source": [
    "num =input(\"enter number:\")\n",
    "length = 14\n",
    "a = len(num)\n",
    "b= length-a\n",
    "exp_num = 4\n",
    "a1=('x'* b+num)\n",
    "\n",
    "l=[]\n",
    "l=a1\n"
   ]
  },
  {
   "cell_type": "code",
   "execution_count": 18,
   "id": "2bb78eb8",
   "metadata": {},
   "outputs": [
    {
     "data": {
      "text/plain": [
       "'xxxxxxxxxx3432'"
      ]
     },
     "execution_count": 18,
     "metadata": {},
     "output_type": "execute_result"
    }
   ],
   "source": [
    "a1"
   ]
  },
  {
   "cell_type": "code",
   "execution_count": 19,
   "id": "51f0ef2f",
   "metadata": {},
   "outputs": [
    {
     "data": {
      "text/plain": [
       "'xxxxxxxxxx3432'"
      ]
     },
     "execution_count": 19,
     "metadata": {},
     "output_type": "execute_result"
    }
   ],
   "source": [
    "l"
   ]
  },
  {
   "cell_type": "code",
   "execution_count": 20,
   "id": "78322419",
   "metadata": {},
   "outputs": [
    {
     "data": {
      "text/plain": [
       "'xxxxxxxxxx3432'"
      ]
     },
     "execution_count": 20,
     "metadata": {},
     "output_type": "execute_result"
    }
   ],
   "source": [
    "l[0:14]"
   ]
  },
  {
   "cell_type": "code",
   "execution_count": 21,
   "id": "cd79cdf9",
   "metadata": {},
   "outputs": [
    {
     "data": {
      "text/plain": [
       "'xxx3'"
      ]
     },
     "execution_count": 21,
     "metadata": {},
     "output_type": "execute_result"
    }
   ],
   "source": [
    "l[0::4]"
   ]
  },
  {
   "cell_type": "code",
   "execution_count": 26,
   "id": "1e677042",
   "metadata": {},
   "outputs": [
    {
     "name": "stdout",
     "output_type": "stream",
     "text": [
      "enter number:234\n"
     ]
    }
   ],
   "source": [
    "num =input(\"enter number:\")\n",
    "length = 14\n",
    "a = len(num)\n",
    "b= length-a\n",
    "exp_num = 4\n",
    "a1=('x'* b+num)\n",
    "l=list(a1)"
   ]
  },
  {
   "cell_type": "markdown",
   "id": "814793a3",
   "metadata": {},
   "source": [
    "a1"
   ]
  },
  {
   "cell_type": "code",
   "execution_count": 27,
   "id": "71464550",
   "metadata": {},
   "outputs": [
    {
     "data": {
      "text/plain": [
       "'xxxxxxxxxxx234'"
      ]
     },
     "execution_count": 27,
     "metadata": {},
     "output_type": "execute_result"
    }
   ],
   "source": [
    "a1"
   ]
  },
  {
   "cell_type": "code",
   "execution_count": 51,
   "id": "3bba4822",
   "metadata": {},
   "outputs": [
    {
     "data": {
      "text/plain": [
       "['x', 'x', 'x', 'x', 'x', 'x', 'x', 'x', 'x', 'x', 'x', 'x', '3', '4']"
      ]
     },
     "execution_count": 51,
     "metadata": {},
     "output_type": "execute_result"
    }
   ],
   "source": [
    "l"
   ]
  },
  {
   "cell_type": "code",
   "execution_count": 52,
   "id": "f3f66c71",
   "metadata": {},
   "outputs": [
    {
     "data": {
      "text/plain": [
       "['x', 'x', 'x', 'x']"
      ]
     },
     "execution_count": 52,
     "metadata": {},
     "output_type": "execute_result"
    }
   ],
   "source": [
    "l[:4]"
   ]
  },
  {
   "cell_type": "code",
   "execution_count": 23,
   "id": "c051541e",
   "metadata": {},
   "outputs": [
    {
     "name": "stdout",
     "output_type": "stream",
     "text": [
      "enter number:3454\n"
     ]
    }
   ],
   "source": [
    "num =input(\"enter number:\")\n",
    "length = 14\n",
    "a = len(num)\n",
    "b= length-a\n",
    "\n",
    "a1=('x'* b+num)\n",
    "\n",
    "\n",
    "\n"
   ]
  },
  {
   "cell_type": "code",
   "execution_count": 24,
   "id": "88d87b53",
   "metadata": {},
   "outputs": [
    {
     "data": {
      "text/plain": [
       "'xxxxxxxxxx3454'"
      ]
     },
     "execution_count": 24,
     "metadata": {},
     "output_type": "execute_result"
    }
   ],
   "source": [
    "a1"
   ]
  },
  {
   "cell_type": "code",
   "execution_count": 58,
   "id": "c1bdf667",
   "metadata": {},
   "outputs": [
    {
     "data": {
      "text/plain": [
       "['x', 'x', 'x', 'x', '-', 'x', 'x', 'x', '-', 'x', 'x', 'x', '-', '4']"
      ]
     },
     "execution_count": 58,
     "metadata": {},
     "output_type": "execute_result"
    }
   ],
   "source": [
    "ans4"
   ]
  },
  {
   "cell_type": "code",
   "execution_count": 18,
   "id": "f9a50e91",
   "metadata": {},
   "outputs": [
    {
     "name": "stdout",
     "output_type": "stream",
     "text": [
      "enter number:6768989\n",
      "xxxx-\n",
      "xxxx-\n",
      "xxxx-\n"
     ]
    }
   ],
   "source": [
    "num =input(\"enter number:\")\n",
    "length = 14\n",
    "a = len(num)\n",
    "b= length-a\n",
    "exp_num = 4\n",
    "a1=('x'* b+num)\n",
    "\n",
    "l=[]\n",
    "l=a1\n",
    "#num=len(a1)//4\n",
    "\n",
    "for i in range((len(a1))//4):\n",
    "    b=l[i:i+4]\n",
    "    b += '-'\n",
    "    \n",
    "    b1=print(b)"
   ]
  },
  {
   "cell_type": "code",
   "execution_count": 10,
   "id": "714038cd",
   "metadata": {},
   "outputs": [
    {
     "data": {
      "text/plain": [
       "'xxxxxxxxx87689'"
      ]
     },
     "execution_count": 10,
     "metadata": {},
     "output_type": "execute_result"
    }
   ],
   "source": [
    "a1"
   ]
  },
  {
   "cell_type": "code",
   "execution_count": 65,
   "id": "b398fcee",
   "metadata": {},
   "outputs": [
    {
     "data": {
      "text/plain": [
       "3"
      ]
     },
     "execution_count": 65,
     "metadata": {},
     "output_type": "execute_result"
    }
   ],
   "source": [
    "num"
   ]
  },
  {
   "cell_type": "code",
   "execution_count": 22,
   "id": "59d182c0",
   "metadata": {},
   "outputs": [
    {
     "name": "stdout",
     "output_type": "stream",
     "text": [
      "enter number:412\n",
      "2-\n"
     ]
    }
   ],
   "source": [
    "num =input(\"enter number:\")\n",
    "length = 14\n",
    "a = len(num)\n",
    "b= length-a\n",
    "exp_num = 4\n",
    "a1=('x'* b+num)\n",
    "\n",
    "l=[]\n",
    "l=a1\n",
    "#num=len(a1)//4\n",
    "\n",
    "for i in range(len(a1)):\n",
    "    b=l[i:i+4]\n",
    "    b += '-'\n",
    "\n",
    "print(b)        "
   ]
  },
  {
   "cell_type": "code",
   "execution_count": 47,
   "id": "13edc362",
   "metadata": {},
   "outputs": [
    {
     "name": "stdout",
     "output_type": "stream",
     "text": [
      "enter number:65456\n",
      "xxxx-xxxx-5456-\n"
     ]
    }
   ],
   "source": [
    "num =input(\"enter number:\")\n",
    "length = 14\n",
    "a = len(num)\n",
    "b= length-a\n",
    "\n",
    "a1=('x'* b+num)\n",
    "s = (a1[:4]+'-')\n",
    "s1 = (a1[5:9]+'-')\n",
    "s2 = (a1[10:]+'-')\n",
    "ans = s+s1+s2\n",
    "print(ans)"
   ]
  },
  {
   "cell_type": "code",
   "execution_count": 48,
   "id": "491100ef",
   "metadata": {},
   "outputs": [
    {
     "data": {
      "text/plain": [
       "'xxxxxxxxx65456'"
      ]
     },
     "execution_count": 48,
     "metadata": {},
     "output_type": "execute_result"
    }
   ],
   "source": [
    "a1"
   ]
  },
  {
   "cell_type": "code",
   "execution_count": 52,
   "id": "3e2ba8f0",
   "metadata": {},
   "outputs": [
    {
     "name": "stdout",
     "output_type": "stream",
     "text": [
      "enter number:39482390\n"
     ]
    }
   ],
   "source": [
    "num =input(\"enter number:\")\n",
    "length = 14\n",
    "a = len(num)\n",
    "b= length-a\n",
    "a1=('x'* b+num)\n",
    "exp_length=4\n",
    "ans=length%4\n",
    "\n",
    "if ans==0:\n",
    "    s = (a1[:exp_length]+'-')\n",
    "    \n",
    "    break\n",
    "else:\n",
    "    s=(a1[exp_length+1:exp_length+4]+'-')\n",
    "    continue\n",
    "    \n",
    "    \n",
    "    \n",
    "    \n"
   ]
  },
  {
   "cell_type": "code",
   "execution_count": 53,
   "id": "5d2881d4",
   "metadata": {},
   "outputs": [
    {
     "data": {
      "text/plain": [
       "'xxxxxx39482390'"
      ]
     },
     "execution_count": 53,
     "metadata": {},
     "output_type": "execute_result"
    }
   ],
   "source": [
    "a1"
   ]
  },
  {
   "cell_type": "code",
   "execution_count": 54,
   "id": "cb31268a",
   "metadata": {},
   "outputs": [
    {
     "data": {
      "text/plain": [
       "2"
      ]
     },
     "execution_count": 54,
     "metadata": {},
     "output_type": "execute_result"
    }
   ],
   "source": [
    "ans"
   ]
  },
  {
   "cell_type": "code",
   "execution_count": null,
   "id": "c3245dd8",
   "metadata": {},
   "outputs": [],
   "source": [
    "# calling sample 2 - str_format(\"hello _name_! welcome to _place_\", name='kush', place='ahmedabad')\n",
    "\n",
    "def string_format(str_source,**args):\n",
    "  count_placeholder = str_source.count('_')\n",
    "  str_source = str_source.split()\n",
    "  len_placeholder = count_placeholder//2\n",
    "\n",
    "  c = 0\n",
    "\n",
    "  if len_placeholder == len(args):\n",
    "    for i in range(str_source):\n",
    "        if i.startswith('_') and i.endswith('_'):\n",
    "            \n",
    "            \n",
    "            \n",
    "      "
   ]
  }
 ],
 "metadata": {
  "kernelspec": {
   "display_name": "Python 3 (ipykernel)",
   "language": "python",
   "name": "python3"
  },
  "language_info": {
   "codemirror_mode": {
    "name": "ipython",
    "version": 3
   },
   "file_extension": ".py",
   "mimetype": "text/x-python",
   "name": "python",
   "nbconvert_exporter": "python",
   "pygments_lexer": "ipython3",
   "version": "3.10.9"
  }
 },
 "nbformat": 4,
 "nbformat_minor": 5
}
