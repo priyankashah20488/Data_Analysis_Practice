{
 "cells": [
  {
   "cell_type": "code",
   "execution_count": 1,
   "id": "28716e4f",
   "metadata": {},
   "outputs": [],
   "source": [
    "#import random\n",
    "import random"
   ]
  },
  {
   "cell_type": "code",
   "execution_count": 2,
   "id": "c943c34c",
   "metadata": {},
   "outputs": [
    {
     "name": "stdout",
     "output_type": "stream",
     "text": [
      "['BPF', 'LOG4', 'NV_MAGICCONST', 'RECIP_BPF', 'Random', 'SG_MAGICCONST', 'SystemRandom', 'TWOPI', '_ONE', '_Sequence', '_Set', '__all__', '__builtins__', '__cached__', '__doc__', '__file__', '__loader__', '__name__', '__package__', '__spec__', '_accumulate', '_acos', '_bisect', '_ceil', '_cos', '_e', '_exp', '_floor', '_index', '_inst', '_isfinite', '_log', '_os', '_pi', '_random', '_repeat', '_sha512', '_sin', '_sqrt', '_test', '_test_generator', '_urandom', '_warn', 'betavariate', 'choice', 'choices', 'expovariate', 'gammavariate', 'gauss', 'getrandbits', 'getstate', 'lognormvariate', 'normalvariate', 'paretovariate', 'randbytes', 'randint', 'random', 'randrange', 'sample', 'seed', 'setstate', 'shuffle', 'triangular', 'uniform', 'vonmisesvariate', 'weibullvariate']\n"
     ]
    }
   ],
   "source": [
    "print(dir(random))"
   ]
  },
  {
   "cell_type": "code",
   "execution_count": 3,
   "id": "001768b5",
   "metadata": {},
   "outputs": [
    {
     "data": {
      "text/plain": [
       "0.3906782184814852"
      ]
     },
     "execution_count": 3,
     "metadata": {},
     "output_type": "execute_result"
    }
   ],
   "source": [
    "random.random()"
   ]
  },
  {
   "cell_type": "code",
   "execution_count": 4,
   "id": "eb931aa7",
   "metadata": {},
   "outputs": [
    {
     "data": {
      "text/plain": [
       "0.4512778095512001"
      ]
     },
     "execution_count": 4,
     "metadata": {},
     "output_type": "execute_result"
    }
   ],
   "source": [
    "random.random()"
   ]
  },
  {
   "cell_type": "code",
   "execution_count": 5,
   "id": "50aab139",
   "metadata": {},
   "outputs": [
    {
     "data": {
      "text/plain": [
       "9"
      ]
     },
     "execution_count": 5,
     "metadata": {},
     "output_type": "execute_result"
    }
   ],
   "source": [
    "random.randrange(1,30)"
   ]
  },
  {
   "cell_type": "code",
   "execution_count": 6,
   "id": "9eff3a0e",
   "metadata": {},
   "outputs": [
    {
     "data": {
      "text/plain": [
       "19"
      ]
     },
     "execution_count": 6,
     "metadata": {},
     "output_type": "execute_result"
    }
   ],
   "source": [
    "random.randrange(1,20)"
   ]
  },
  {
   "cell_type": "code",
   "execution_count": 7,
   "id": "8e13608c",
   "metadata": {},
   "outputs": [
    {
     "data": {
      "text/plain": [
       "18"
      ]
     },
     "execution_count": 7,
     "metadata": {},
     "output_type": "execute_result"
    }
   ],
   "source": [
    "random.randint(1,20)"
   ]
  },
  {
   "cell_type": "code",
   "execution_count": 8,
   "id": "fb1fa8ef",
   "metadata": {},
   "outputs": [
    {
     "name": "stdout",
     "output_type": "stream",
     "text": [
      "10\n",
      "18\n",
      "15\n",
      "13\n",
      "15\n",
      "7\n",
      "20\n",
      "13\n",
      "12\n",
      "14\n",
      "14\n",
      "16\n",
      "12\n",
      "17\n",
      "13\n",
      "14\n",
      "9\n",
      "6\n",
      "19\n"
     ]
    }
   ],
   "source": [
    "for i in range(1,20):\n",
    "    print(random.randint(1,20))"
   ]
  },
  {
   "cell_type": "code",
   "execution_count": 9,
   "id": "1569cf1b",
   "metadata": {},
   "outputs": [
    {
     "data": {
      "text/plain": [
       "8219"
      ]
     },
     "execution_count": 9,
     "metadata": {},
     "output_type": "execute_result"
    }
   ],
   "source": [
    "random.randint(1000,9999)"
   ]
  },
  {
   "cell_type": "code",
   "execution_count": 10,
   "id": "e95e2364",
   "metadata": {},
   "outputs": [
    {
     "data": {
      "text/plain": [
       "9940"
      ]
     },
     "execution_count": 10,
     "metadata": {},
     "output_type": "execute_result"
    }
   ],
   "source": [
    "random.randint(1000,9999)"
   ]
  },
  {
   "cell_type": "code",
   "execution_count": 11,
   "id": "45d37c79",
   "metadata": {},
   "outputs": [
    {
     "data": {
      "text/plain": [
       "'l'"
      ]
     },
     "execution_count": 11,
     "metadata": {},
     "output_type": "execute_result"
    }
   ],
   "source": [
    "# choice(sequencial/iterable)\n",
    "\n",
    "random.choice(\"Hello\")"
   ]
  },
  {
   "cell_type": "code",
   "execution_count": 12,
   "id": "7a84fc0e",
   "metadata": {},
   "outputs": [
    {
     "data": {
      "text/plain": [
       "'H'"
      ]
     },
     "execution_count": 12,
     "metadata": {},
     "output_type": "execute_result"
    }
   ],
   "source": [
    "random.choice(\"Hello\")"
   ]
  },
  {
   "cell_type": "code",
   "execution_count": 13,
   "id": "e545de79",
   "metadata": {},
   "outputs": [
    {
     "data": {
      "text/plain": [
       "['e']"
      ]
     },
     "execution_count": 13,
     "metadata": {},
     "output_type": "execute_result"
    }
   ],
   "source": [
    "random.choices(\"Hello\")"
   ]
  },
  {
   "cell_type": "code",
   "execution_count": 14,
   "id": "0b761714",
   "metadata": {},
   "outputs": [
    {
     "data": {
      "text/plain": [
       "22"
      ]
     },
     "execution_count": 14,
     "metadata": {},
     "output_type": "execute_result"
    }
   ],
   "source": [
    "random.choice([23,45,22,78])"
   ]
  },
  {
   "cell_type": "code",
   "execution_count": 16,
   "id": "45816a84",
   "metadata": {},
   "outputs": [
    {
     "data": {
      "text/plain": [
       "[23, 34]"
      ]
     },
     "execution_count": 16,
     "metadata": {},
     "output_type": "execute_result"
    }
   ],
   "source": [
    "random.choices([23,45,12,34,56],k=2)"
   ]
  },
  {
   "cell_type": "code",
   "execution_count": 18,
   "id": "cb6feeb4",
   "metadata": {},
   "outputs": [
    {
     "data": {
      "text/plain": [
       "['e', 'e', 'l', 'l', 'e']"
      ]
     },
     "execution_count": 18,
     "metadata": {},
     "output_type": "execute_result"
    }
   ],
   "source": [
    "random.choices('hello',k=5)"
   ]
  },
  {
   "cell_type": "code",
   "execution_count": 19,
   "id": "1712d26b",
   "metadata": {},
   "outputs": [],
   "source": [
    "#suffle\n",
    "\n",
    "random.shuffle([2,4,5,7,5,4,9])"
   ]
  },
  {
   "cell_type": "code",
   "execution_count": 26,
   "id": "f4b38b28",
   "metadata": {},
   "outputs": [],
   "source": [
    "l = [2,4,5,7,5,4,9]"
   ]
  },
  {
   "cell_type": "code",
   "execution_count": 27,
   "id": "025949c6",
   "metadata": {},
   "outputs": [],
   "source": [
    "random.shuffle(l)"
   ]
  },
  {
   "cell_type": "code",
   "execution_count": 28,
   "id": "6c862622",
   "metadata": {},
   "outputs": [
    {
     "data": {
      "text/plain": [
       "[4, 4, 5, 2, 9, 5, 7]"
      ]
     },
     "execution_count": 28,
     "metadata": {},
     "output_type": "execute_result"
    }
   ],
   "source": [
    "l"
   ]
  },
  {
   "cell_type": "code",
   "execution_count": 29,
   "id": "773045ca",
   "metadata": {},
   "outputs": [],
   "source": [
    "l.sort()"
   ]
  },
  {
   "cell_type": "code",
   "execution_count": 30,
   "id": "d1a4410d",
   "metadata": {},
   "outputs": [
    {
     "data": {
      "text/plain": [
       "[2, 4, 4, 5, 5, 7, 9]"
      ]
     },
     "execution_count": 30,
     "metadata": {},
     "output_type": "execute_result"
    }
   ],
   "source": [
    "l"
   ]
  },
  {
   "cell_type": "code",
   "execution_count": 45,
   "id": "ba81dc1d",
   "metadata": {},
   "outputs": [
    {
     "name": "stdout",
     "output_type": "stream",
     "text": [
      "a\n",
      "b\n",
      "c\n",
      "d\n",
      "e\n",
      "f\n",
      "g\n",
      "h\n",
      "i\n",
      "j\n",
      "k\n",
      "l\n",
      "m\n",
      "n\n",
      "o\n",
      "p\n",
      "q\n",
      "r\n",
      "s\n",
      "t\n",
      "u\n",
      "v\n",
      "w\n",
      "x\n",
      "y\n",
      "z\n",
      "a\n",
      "b\n",
      "c\n",
      "d\n",
      "e\n",
      "f\n",
      "g\n",
      "h\n",
      "i\n",
      "j\n",
      "k\n",
      "l\n",
      "m\n",
      "n\n",
      "o\n",
      "p\n",
      "q\n",
      "r\n",
      "s\n",
      "t\n",
      "u\n",
      "v\n",
      "w\n",
      "x\n",
      "y\n",
      "z\n",
      "0123456789:!\"#$%&'()*+,-./:;<=>?@[\\]^_@ABCDEFGHIJKLMNOPQRSTUVWXYZ\n"
     ]
    }
   ],
   "source": [
    "alpha = ''\n",
    "for d in range(1,3):\n",
    "    for c in range(97, 123):\n",
    "       # alpha=chr(c)\n",
    "        print(chr(c))\n",
    "    \n",
    "alpha1 = ''\n",
    "for s in range(64,91):\n",
    "    alpha1+=chr(s)\n",
    "    \n",
    "Num = ''\n",
    "for n in range(48,59):\n",
    "    Num+=chr(n)\n",
    "\n",
    "sp_chr=''\n",
    "for i in range(33, 96):\n",
    "    if not chr(i).isalnum():\n",
    "        sp_chr+=chr(i)\n",
    "    \n",
    "pwd = alpha+Num+sp_chr+alpha1\n",
    "print(pwd)\n",
    "    \n",
    "    "
   ]
  },
  {
   "cell_type": "code",
   "execution_count": 2,
   "id": "adcc7304",
   "metadata": {},
   "outputs": [],
   "source": [
    "#os module\n",
    "import os     "
   ]
  },
  {
   "cell_type": "code",
   "execution_count": 49,
   "id": "fb2bbd2b",
   "metadata": {},
   "outputs": [
    {
     "name": "stdout",
     "output_type": "stream",
     "text": [
      "['DirEntry', 'F_OK', 'GenericAlias', 'Mapping', 'MutableMapping', 'O_APPEND', 'O_BINARY', 'O_CREAT', 'O_EXCL', 'O_NOINHERIT', 'O_RANDOM', 'O_RDONLY', 'O_RDWR', 'O_SEQUENTIAL', 'O_SHORT_LIVED', 'O_TEMPORARY', 'O_TEXT', 'O_TRUNC', 'O_WRONLY', 'P_DETACH', 'P_NOWAIT', 'P_NOWAITO', 'P_OVERLAY', 'P_WAIT', 'PathLike', 'R_OK', 'SEEK_CUR', 'SEEK_END', 'SEEK_SET', 'TMP_MAX', 'W_OK', 'X_OK', '_AddedDllDirectory', '_Environ', '__all__', '__builtins__', '__cached__', '__doc__', '__file__', '__loader__', '__name__', '__package__', '__spec__', '_check_methods', '_execvpe', '_exists', '_exit', '_fspath', '_get_exports_list', '_walk', '_wrap_close', 'abc', 'abort', 'access', 'add_dll_directory', 'altsep', 'chdir', 'chmod', 'close', 'closerange', 'cpu_count', 'curdir', 'defpath', 'device_encoding', 'devnull', 'dup', 'dup2', 'environ', 'error', 'execl', 'execle', 'execlp', 'execlpe', 'execv', 'execve', 'execvp', 'execvpe', 'extsep', 'fdopen', 'fsdecode', 'fsencode', 'fspath', 'fstat', 'fsync', 'ftruncate', 'get_exec_path', 'get_handle_inheritable', 'get_inheritable', 'get_terminal_size', 'getcwd', 'getcwdb', 'getenv', 'getlogin', 'getpid', 'getppid', 'isatty', 'kill', 'linesep', 'link', 'listdir', 'lseek', 'lstat', 'makedirs', 'mkdir', 'name', 'open', 'pardir', 'path', 'pathsep', 'pipe', 'popen', 'putenv', 'read', 'readlink', 'remove', 'removedirs', 'rename', 'renames', 'replace', 'rmdir', 'scandir', 'sep', 'set_handle_inheritable', 'set_inheritable', 'spawnl', 'spawnle', 'spawnv', 'spawnve', 'st', 'startfile', 'stat', 'stat_result', 'statvfs_result', 'strerror', 'supports_bytes_environ', 'supports_dir_fd', 'supports_effective_ids', 'supports_fd', 'supports_follow_symlinks', 'symlink', 'sys', 'system', 'terminal_size', 'times', 'times_result', 'truncate', 'umask', 'uname_result', 'unlink', 'unsetenv', 'urandom', 'utime', 'waitpid', 'waitstatus_to_exitcode', 'walk', 'write']\n"
     ]
    }
   ],
   "source": [
    "print(dir(os))"
   ]
  },
  {
   "cell_type": "code",
   "execution_count": 50,
   "id": "b0d06481",
   "metadata": {},
   "outputs": [
    {
     "data": {
      "text/plain": [
       "'E:\\\\python_programming'"
      ]
     },
     "execution_count": 50,
     "metadata": {},
     "output_type": "execute_result"
    }
   ],
   "source": [
    "# get cwd\n",
    "os.getcwd()"
   ]
  },
  {
   "cell_type": "code",
   "execution_count": 51,
   "id": "02b478ec",
   "metadata": {},
   "outputs": [
    {
     "data": {
      "text/plain": [
       "['.git',\n",
       " '.ipynb_checkpoints',\n",
       " 'calculator.py',\n",
       " 'Collection_Mapping.ipynb',\n",
       " 'core_concept.ipynb',\n",
       " 'Core_Concept1.ipynb',\n",
       " 'File_Handling.ipynb',\n",
       " 'Function_task.ipynb',\n",
       " 'lambda_function.ipynb',\n",
       " 'mytxt.txt',\n",
       " 'mytxt1.txt',\n",
       " 'Overview.ipynb',\n",
       " 'pythonmodule.py',\n",
       " 'python_function.ipynb',\n",
       " 'python_module.ipynb',\n",
       " 'Untitled.ipynb',\n",
       " '__pycache__']"
      ]
     },
     "execution_count": 51,
     "metadata": {},
     "output_type": "execute_result"
    }
   ],
   "source": [
    "os.listdir(\"./\")"
   ]
  },
  {
   "cell_type": "code",
   "execution_count": 52,
   "id": "aad9b5d8",
   "metadata": {},
   "outputs": [
    {
     "data": {
      "text/plain": [
       "<nt.ScandirIterator at 0x277d1c26550>"
      ]
     },
     "execution_count": 52,
     "metadata": {},
     "output_type": "execute_result"
    }
   ],
   "source": [
    "os.scandir(\"./\")"
   ]
  },
  {
   "cell_type": "code",
   "execution_count": 53,
   "id": "4a2ec92f",
   "metadata": {},
   "outputs": [
    {
     "name": "stdout",
     "output_type": "stream",
     "text": [
      "<DirEntry '.git'>\n",
      "<DirEntry '.ipynb_checkpoints'>\n",
      "<DirEntry 'calculator.py'>\n",
      "<DirEntry 'Collection_Mapping.ipynb'>\n",
      "<DirEntry 'core_concept.ipynb'>\n",
      "<DirEntry 'Core_Concept1.ipynb'>\n",
      "<DirEntry 'File_Handling.ipynb'>\n",
      "<DirEntry 'Function_task.ipynb'>\n",
      "<DirEntry 'lambda_function.ipynb'>\n",
      "<DirEntry 'mytxt.txt'>\n",
      "<DirEntry 'mytxt1.txt'>\n",
      "<DirEntry 'Overview.ipynb'>\n",
      "<DirEntry 'pythonmodule.py'>\n",
      "<DirEntry 'python_function.ipynb'>\n",
      "<DirEntry 'python_module.ipynb'>\n",
      "<DirEntry 'Untitled.ipynb'>\n",
      "<DirEntry '__pycache__'>\n"
     ]
    }
   ],
   "source": [
    "for i in os.scandir('./'):\n",
    "    print(i)"
   ]
  },
  {
   "cell_type": "code",
   "execution_count": 54,
   "id": "caf79180",
   "metadata": {},
   "outputs": [
    {
     "name": "stdout",
     "output_type": "stream",
     "text": [
      ".git\n",
      ".ipynb_checkpoints\n",
      "calculator.py\n",
      "Collection_Mapping.ipynb\n",
      "core_concept.ipynb\n",
      "Core_Concept1.ipynb\n",
      "File_Handling.ipynb\n",
      "Function_task.ipynb\n",
      "lambda_function.ipynb\n",
      "mytxt.txt\n",
      "mytxt1.txt\n",
      "Overview.ipynb\n",
      "pythonmodule.py\n",
      "python_function.ipynb\n",
      "python_module.ipynb\n",
      "Untitled.ipynb\n",
      "__pycache__\n"
     ]
    }
   ],
   "source": [
    "for i in os.scandir('./'):\n",
    "    print(i.name)"
   ]
  },
  {
   "cell_type": "code",
   "execution_count": 6,
   "id": "933dcdf8",
   "metadata": {},
   "outputs": [
    {
     "name": "stdout",
     "output_type": "stream",
     "text": [
      "Name\t\t\t|\tType\n",
      "____________________________________________________________________________________________________\n",
      ".git \t\t\t File Folder\n",
      ".ipynb_checkpoints \t\t\t File Folder\n",
      "calculator.py \t\t\t python source file\n",
      "Collection_Mapping.ipynb \t\t\t jupyter source file\n",
      "core_concept.ipynb \t\t\t jupyter source file\n",
      "Core_Concept1.ipynb \t\t\t jupyter source file\n",
      "File_Handling.ipynb \t\t\t jupyter source file\n",
      "Function_task.ipynb \t\t\t jupyter source file\n",
      "lambda_function.ipynb \t\t\t jupyter source file\n",
      "mytxt.txt \t\t\t Text File\n",
      "mytxt1.txt \t\t\t Text File\n",
      "Overview.ipynb \t\t\t jupyter source file\n",
      "pythonmodule.py \t\t\t python source file\n",
      "python_function.ipynb \t\t\t jupyter source file\n",
      "python_module.ipynb \t\t\t jupyter source file\n",
      "__pycache__ \t\t\t File Folder\n"
     ]
    }
   ],
   "source": [
    "types = {\n",
    "    'png':'PNG File',\n",
    "    'txt':'Text File',\n",
    "    'py':'python source file',\n",
    "    'ipynb':'jupyter source file',\n",
    "    'md':'Markdown source file'   \n",
    "}\n",
    "print('Name\\t\\t\\t|\\tType')\n",
    "print('_'*100)\n",
    "\n",
    "for i in os.scandir(\"./\"):\n",
    "    if i.is_dir():\n",
    "        print(i.name,'\\t\\t\\t','File Folder')\n",
    "    elif i.is_file:\n",
    "        f_type = i.name.split('.')[-1]\n",
    "        print(i.name,'\\t\\t\\t',types[f_type])"
   ]
  },
  {
   "cell_type": "code",
   "execution_count": 7,
   "id": "2e5cab1c",
   "metadata": {},
   "outputs": [
    {
     "name": "stdout",
     "output_type": "stream",
     "text": [
      "C:\\Windows\\Temp\\9f4915d1-bf7d-41c0-ae12-fcc5d489bd94.tmp\n"
     ]
    }
   ],
   "source": [
    "# path = C:\\Windows\\Temp\n",
    "\n",
    "path = 'C:\\Windows\\Temp'\n",
    "file = os.path.join(path,'9f4915d1-bf7d-41c0-ae12-fcc5d489bd94.tmp')\n",
    "print(file)"
   ]
  },
  {
   "cell_type": "code",
   "execution_count": 8,
   "id": "5e591641",
   "metadata": {},
   "outputs": [],
   "source": [
    "os.remove(file)"
   ]
  },
  {
   "cell_type": "code",
   "execution_count": 9,
   "id": "ce0eee4e",
   "metadata": {},
   "outputs": [
    {
     "ename": "PermissionError",
     "evalue": "[Errno 13] Permission denied: 'E:\\\\python_programming'",
     "output_type": "error",
     "traceback": [
      "\u001b[1;31m---------------------------------------------------------------------------\u001b[0m",
      "\u001b[1;31mPermissionError\u001b[0m                           Traceback (most recent call last)",
      "Cell \u001b[1;32mIn[9], line 1\u001b[0m\n\u001b[1;32m----> 1\u001b[0m \u001b[43mos\u001b[49m\u001b[38;5;241;43m.\u001b[39;49m\u001b[43mopen\u001b[49m\u001b[43m(\u001b[49m\u001b[43mos\u001b[49m\u001b[38;5;241;43m.\u001b[39;49m\u001b[43mgetcwd\u001b[49m\u001b[43m(\u001b[49m\u001b[43m)\u001b[49m\u001b[43m,\u001b[49m\u001b[43m \u001b[49m\u001b[38;5;241;43m0\u001b[39;49m\u001b[43m)\u001b[49m\n",
      "\u001b[1;31mPermissionError\u001b[0m: [Errno 13] Permission denied: 'E:\\\\python_programming'"
     ]
    }
   ],
   "source": [
    "os.open(os.getcwd(), 0)"
   ]
  },
  {
   "cell_type": "code",
   "execution_count": 2,
   "id": "27426812",
   "metadata": {},
   "outputs": [],
   "source": [
    "#import math\n",
    "import math"
   ]
  },
  {
   "cell_type": "code",
   "execution_count": 3,
   "id": "882c4060",
   "metadata": {},
   "outputs": [
    {
     "name": "stdout",
     "output_type": "stream",
     "text": [
      "['__doc__', '__loader__', '__name__', '__package__', '__spec__', 'acos', 'acosh', 'asin', 'asinh', 'atan', 'atan2', 'atanh', 'ceil', 'comb', 'copysign', 'cos', 'cosh', 'degrees', 'dist', 'e', 'erf', 'erfc', 'exp', 'expm1', 'fabs', 'factorial', 'floor', 'fmod', 'frexp', 'fsum', 'gamma', 'gcd', 'hypot', 'inf', 'isclose', 'isfinite', 'isinf', 'isnan', 'isqrt', 'lcm', 'ldexp', 'lgamma', 'log', 'log10', 'log1p', 'log2', 'modf', 'nan', 'nextafter', 'perm', 'pi', 'pow', 'prod', 'radians', 'remainder', 'sin', 'sinh', 'sqrt', 'tan', 'tanh', 'tau', 'trunc', 'ulp']\n"
     ]
    }
   ],
   "source": [
    "print(dir(math))"
   ]
  },
  {
   "cell_type": "code",
   "execution_count": 4,
   "id": "77112f90",
   "metadata": {},
   "outputs": [
    {
     "data": {
      "text/plain": [
       "3.141592653589793"
      ]
     },
     "execution_count": 4,
     "metadata": {},
     "output_type": "execute_result"
    }
   ],
   "source": [
    "math.pi"
   ]
  },
  {
   "cell_type": "code",
   "execution_count": 5,
   "id": "d81fb885",
   "metadata": {},
   "outputs": [
    {
     "data": {
      "text/plain": [
       "64"
      ]
     },
     "execution_count": 5,
     "metadata": {},
     "output_type": "execute_result"
    }
   ],
   "source": [
    "pow(4,3)"
   ]
  },
  {
   "cell_type": "code",
   "execution_count": 6,
   "id": "956189c2",
   "metadata": {},
   "outputs": [
    {
     "data": {
      "text/plain": [
       "0.0"
      ]
     },
     "execution_count": 6,
     "metadata": {},
     "output_type": "execute_result"
    }
   ],
   "source": [
    "math.remainder(4,2)"
   ]
  },
  {
   "cell_type": "code",
   "execution_count": 7,
   "id": "618000bd",
   "metadata": {},
   "outputs": [
    {
     "data": {
      "text/plain": [
       "1.0"
      ]
     },
     "execution_count": 7,
     "metadata": {},
     "output_type": "execute_result"
    }
   ],
   "source": [
    "math.remainder(5,2)"
   ]
  },
  {
   "cell_type": "code",
   "execution_count": 8,
   "id": "0fe897a7",
   "metadata": {},
   "outputs": [
    {
     "data": {
      "text/plain": [
       "120"
      ]
     },
     "execution_count": 8,
     "metadata": {},
     "output_type": "execute_result"
    }
   ],
   "source": [
    "math.factorial(5)"
   ]
  },
  {
   "cell_type": "code",
   "execution_count": 9,
   "id": "e9b5c15b",
   "metadata": {},
   "outputs": [],
   "source": [
    "#imort date time module\n",
    "\n",
    "import datetime"
   ]
  },
  {
   "cell_type": "code",
   "execution_count": 10,
   "id": "d176642f",
   "metadata": {},
   "outputs": [
    {
     "name": "stdout",
     "output_type": "stream",
     "text": [
      "['MAXYEAR', 'MINYEAR', '__all__', '__builtins__', '__cached__', '__doc__', '__file__', '__loader__', '__name__', '__package__', '__spec__', 'date', 'datetime', 'datetime_CAPI', 'sys', 'time', 'timedelta', 'timezone', 'tzinfo']\n"
     ]
    }
   ],
   "source": [
    "print(dir(datetime))"
   ]
  },
  {
   "cell_type": "code",
   "execution_count": 15,
   "id": "8f2ea1c1",
   "metadata": {},
   "outputs": [
    {
     "data": {
      "text/plain": [
       "datetime.datetime(2023, 6, 12, 16, 27, 59, 489062)"
      ]
     },
     "execution_count": 15,
     "metadata": {},
     "output_type": "execute_result"
    }
   ],
   "source": [
    "datetime.datetime.now()"
   ]
  },
  {
   "cell_type": "code",
   "execution_count": 16,
   "id": "9fbe979f",
   "metadata": {},
   "outputs": [
    {
     "ename": "TypeError",
     "evalue": "function missing required argument 'year' (pos 1)",
     "output_type": "error",
     "traceback": [
      "\u001b[1;31m---------------------------------------------------------------------------\u001b[0m",
      "\u001b[1;31mTypeError\u001b[0m                                 Traceback (most recent call last)",
      "Cell \u001b[1;32mIn[16], line 1\u001b[0m\n\u001b[1;32m----> 1\u001b[0m datetime\u001b[39m.\u001b[39;49mdate()\n",
      "\u001b[1;31mTypeError\u001b[0m: function missing required argument 'year' (pos 1)"
     ]
    }
   ],
   "source": [
    "datetime.date()"
   ]
  },
  {
   "cell_type": "code",
   "execution_count": 17,
   "id": "d84b16d5",
   "metadata": {},
   "outputs": [
    {
     "data": {
      "text/plain": [
       "datetime.date"
      ]
     },
     "execution_count": 17,
     "metadata": {},
     "output_type": "execute_result"
    }
   ],
   "source": [
    "datetime.date"
   ]
  },
  {
   "cell_type": "code",
   "execution_count": 20,
   "id": "effb1974",
   "metadata": {},
   "outputs": [
    {
     "data": {
      "text/plain": [
       "datetime.date(2023, 6, 22)"
      ]
     },
     "execution_count": 20,
     "metadata": {},
     "output_type": "execute_result"
    }
   ],
   "source": [
    "datetime.date(2023,6,22)"
   ]
  },
  {
   "cell_type": "code",
   "execution_count": 21,
   "id": "b1dac813",
   "metadata": {},
   "outputs": [],
   "source": [
    "dt = datetime.date(2023,6,22)"
   ]
  },
  {
   "cell_type": "code",
   "execution_count": 23,
   "id": "fabeebec",
   "metadata": {},
   "outputs": [
    {
     "data": {
      "text/plain": [
       "'00:00:00'"
      ]
     },
     "execution_count": 23,
     "metadata": {},
     "output_type": "execute_result"
    }
   ],
   "source": [
    "dt.strftime(\"%X\")"
   ]
  },
  {
   "cell_type": "code",
   "execution_count": 24,
   "id": "3ce9ee4e",
   "metadata": {},
   "outputs": [
    {
     "data": {
      "text/plain": [
       "'06/22/23'"
      ]
     },
     "execution_count": 24,
     "metadata": {},
     "output_type": "execute_result"
    }
   ],
   "source": [
    "dt.strftime(\"%x\")"
   ]
  },
  {
   "cell_type": "code",
   "execution_count": 26,
   "id": "32af5ce3",
   "metadata": {},
   "outputs": [
    {
     "data": {
      "text/plain": [
       "'Thu'"
      ]
     },
     "execution_count": 26,
     "metadata": {},
     "output_type": "execute_result"
    }
   ],
   "source": [
    "dt.strftime(\"%a\")"
   ]
  },
  {
   "cell_type": "code",
   "execution_count": 27,
   "id": "6ba1b1af",
   "metadata": {},
   "outputs": [
    {
     "data": {
      "text/plain": [
       "'Thursday'"
      ]
     },
     "execution_count": 27,
     "metadata": {},
     "output_type": "execute_result"
    }
   ],
   "source": [
    "dt.strftime(\"%A\")"
   ]
  },
  {
   "cell_type": "code",
   "execution_count": 29,
   "id": "63db90f1",
   "metadata": {},
   "outputs": [
    {
     "data": {
      "text/plain": [
       "'06'"
      ]
     },
     "execution_count": 29,
     "metadata": {},
     "output_type": "execute_result"
    }
   ],
   "source": [
    "dt.strftime(\"%m\")"
   ]
  },
  {
   "cell_type": "code",
   "execution_count": 30,
   "id": "c7174f2f",
   "metadata": {},
   "outputs": [
    {
     "data": {
      "text/plain": [
       "'06/22/23'"
      ]
     },
     "execution_count": 30,
     "metadata": {},
     "output_type": "execute_result"
    }
   ],
   "source": [
    "dt.strftime(\"%D\")"
   ]
  },
  {
   "cell_type": "code",
   "execution_count": 31,
   "id": "cd4d2251",
   "metadata": {},
   "outputs": [
    {
     "data": {
      "text/plain": [
       "'22'"
      ]
     },
     "execution_count": 31,
     "metadata": {},
     "output_type": "execute_result"
    }
   ],
   "source": [
    "dt.strftime(\"%d\")"
   ]
  },
  {
   "cell_type": "code",
   "execution_count": 32,
   "id": "9e5d2095",
   "metadata": {},
   "outputs": [],
   "source": [
    "import time"
   ]
  },
  {
   "cell_type": "code",
   "execution_count": 36,
   "id": "6c4e10ea",
   "metadata": {},
   "outputs": [
    {
     "name": "stdout",
     "output_type": "stream",
     "text": [
      "16:38:43\n",
      "16:38:44\n",
      "16:38:45\n",
      "16:38:46\n",
      "16:38:47\n",
      "16:38:48\n",
      "16:38:49\n",
      "16:38:50\n",
      "16:38:51\n",
      "16:38:52\n"
     ]
    }
   ],
   "source": [
    "for i in range(1,11):\n",
    "    time.sleep(1)\n",
    "    print(datetime.datetime.now().strftime(\"%X\"))"
   ]
  },
  {
   "cell_type": "code",
   "execution_count": null,
   "id": "6b415b4c",
   "metadata": {},
   "outputs": [],
   "source": []
  }
 ],
 "metadata": {
  "kernelspec": {
   "display_name": "Python 3 (ipykernel)",
   "language": "python",
   "name": "python3"
  },
  "language_info": {
   "codemirror_mode": {
    "name": "ipython",
    "version": 3
   },
   "file_extension": ".py",
   "mimetype": "text/x-python",
   "name": "python",
   "nbconvert_exporter": "python",
   "pygments_lexer": "ipython3",
   "version": "3.10.9"
  }
 },
 "nbformat": 4,
 "nbformat_minor": 5
}
