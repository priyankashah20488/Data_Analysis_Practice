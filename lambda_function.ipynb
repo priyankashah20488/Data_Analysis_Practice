{
 "cells": [
  {
   "cell_type": "code",
   "execution_count": 1,
   "id": "9880b154",
   "metadata": {},
   "outputs": [],
   "source": [
    "# lambda\n",
    "hello = lambda : print(\"hello\")\n"
   ]
  },
  {
   "cell_type": "code",
   "execution_count": 2,
   "id": "265d9bca",
   "metadata": {},
   "outputs": [
    {
     "data": {
      "text/plain": [
       "<function __main__.<lambda>()>"
      ]
     },
     "execution_count": 2,
     "metadata": {},
     "output_type": "execute_result"
    }
   ],
   "source": [
    "hello"
   ]
  },
  {
   "cell_type": "code",
   "execution_count": 3,
   "id": "37962021",
   "metadata": {},
   "outputs": [
    {
     "name": "stdout",
     "output_type": "stream",
     "text": [
      "hello\n"
     ]
    }
   ],
   "source": [
    "hello()"
   ]
  },
  {
   "cell_type": "code",
   "execution_count": 4,
   "id": "f9ac05f9",
   "metadata": {},
   "outputs": [
    {
     "data": {
      "text/plain": [
       "function"
      ]
     },
     "execution_count": 4,
     "metadata": {},
     "output_type": "execute_result"
    }
   ],
   "source": [
    "type(hello)"
   ]
  },
  {
   "cell_type": "code",
   "execution_count": 6,
   "id": "81e6e41e",
   "metadata": {},
   "outputs": [
    {
     "data": {
      "text/plain": [
       "'<lambda>'"
      ]
     },
     "execution_count": 6,
     "metadata": {},
     "output_type": "execute_result"
    }
   ],
   "source": [
    "hello.__name__"
   ]
  },
  {
   "cell_type": "code",
   "execution_count": 7,
   "id": "5612c41a",
   "metadata": {},
   "outputs": [],
   "source": [
    "hello = lambda : 'hello'"
   ]
  },
  {
   "cell_type": "code",
   "execution_count": 8,
   "id": "e1168010",
   "metadata": {},
   "outputs": [
    {
     "data": {
      "text/plain": [
       "'hello'"
      ]
     },
     "execution_count": 8,
     "metadata": {},
     "output_type": "execute_result"
    }
   ],
   "source": [
    "hello()"
   ]
  },
  {
   "cell_type": "code",
   "execution_count": 13,
   "id": "0f5cf292",
   "metadata": {},
   "outputs": [],
   "source": [
    "hello = lambda x : f\" hello {x}\""
   ]
  },
  {
   "cell_type": "code",
   "execution_count": 24,
   "id": "9bea10ae",
   "metadata": {},
   "outputs": [
    {
     "data": {
      "text/plain": [
       "'hello priyanka!'"
      ]
     },
     "execution_count": 24,
     "metadata": {},
     "output_type": "execute_result"
    }
   ],
   "source": [
    "hello('priyanka')"
   ]
  },
  {
   "cell_type": "code",
   "execution_count": 18,
   "id": "df98032f",
   "metadata": {},
   "outputs": [],
   "source": [
    "hello = lambda x : f\"hello {x}!\""
   ]
  },
  {
   "cell_type": "code",
   "execution_count": 25,
   "id": "ae397f20",
   "metadata": {},
   "outputs": [
    {
     "data": {
      "text/plain": [
       "'hello priyanka!'"
      ]
     },
     "execution_count": 25,
     "metadata": {},
     "output_type": "execute_result"
    }
   ],
   "source": [
    "hello('priyanka')"
   ]
  },
  {
   "cell_type": "code",
   "execution_count": 2,
   "id": "ff7eeb51",
   "metadata": {},
   "outputs": [],
   "source": [
    "addition = lambda x,y:x+y"
   ]
  },
  {
   "cell_type": "code",
   "execution_count": 3,
   "id": "b04dd42a",
   "metadata": {},
   "outputs": [
    {
     "data": {
      "text/plain": [
       "4"
      ]
     },
     "execution_count": 3,
     "metadata": {},
     "output_type": "execute_result"
    }
   ],
   "source": [
    "addition(2,2)"
   ]
  },
  {
   "cell_type": "code",
   "execution_count": 28,
   "id": "1f168d51",
   "metadata": {},
   "outputs": [],
   "source": [
    "is_even = lambda x : \"even\" if x%2==0 else \"odd\""
   ]
  },
  {
   "cell_type": "code",
   "execution_count": 29,
   "id": "88b9edca",
   "metadata": {},
   "outputs": [
    {
     "data": {
      "text/plain": [
       "'even'"
      ]
     },
     "execution_count": 29,
     "metadata": {},
     "output_type": "execute_result"
    }
   ],
   "source": [
    "is_even(4)"
   ]
  },
  {
   "cell_type": "code",
   "execution_count": 30,
   "id": "3552bbde",
   "metadata": {},
   "outputs": [
    {
     "data": {
      "text/plain": [
       "'odd'"
      ]
     },
     "execution_count": 30,
     "metadata": {},
     "output_type": "execute_result"
    }
   ],
   "source": [
    "is_even(7)\n"
   ]
  },
  {
   "cell_type": "code",
   "execution_count": 33,
   "id": "b75cc810",
   "metadata": {},
   "outputs": [],
   "source": [
    "is_even = lambda x:x%2==0"
   ]
  },
  {
   "cell_type": "code",
   "execution_count": 34,
   "id": "ad7f9d1c",
   "metadata": {},
   "outputs": [
    {
     "data": {
      "text/plain": [
       "True"
      ]
     },
     "execution_count": 34,
     "metadata": {},
     "output_type": "execute_result"
    }
   ],
   "source": [
    "is_even(4)"
   ]
  },
  {
   "cell_type": "code",
   "execution_count": 35,
   "id": "891a58e0",
   "metadata": {},
   "outputs": [],
   "source": [
    "# filter \n",
    "\n",
    "def is_even(x):\n",
    "    return x%2==0"
   ]
  },
  {
   "cell_type": "code",
   "execution_count": 36,
   "id": "4405f114",
   "metadata": {},
   "outputs": [
    {
     "data": {
      "text/plain": [
       "True"
      ]
     },
     "execution_count": 36,
     "metadata": {},
     "output_type": "execute_result"
    }
   ],
   "source": [
    "is_even(4)"
   ]
  },
  {
   "cell_type": "code",
   "execution_count": 37,
   "id": "cce3822f",
   "metadata": {},
   "outputs": [
    {
     "data": {
      "text/plain": [
       "False"
      ]
     },
     "execution_count": 37,
     "metadata": {},
     "output_type": "execute_result"
    }
   ],
   "source": [
    "is_even(9)"
   ]
  },
  {
   "cell_type": "code",
   "execution_count": 39,
   "id": "db1fef27",
   "metadata": {},
   "outputs": [],
   "source": [
    "obj_filter = filter (None,[3,5,5,2,0])"
   ]
  },
  {
   "cell_type": "code",
   "execution_count": 40,
   "id": "8fe1894e",
   "metadata": {},
   "outputs": [
    {
     "name": "stdout",
     "output_type": "stream",
     "text": [
      "3 5 5 2\n"
     ]
    }
   ],
   "source": [
    "print(*obj_filter)"
   ]
  },
  {
   "cell_type": "code",
   "execution_count": 41,
   "id": "e9489cfb",
   "metadata": {},
   "outputs": [],
   "source": [
    "fil_obj = filter (is_even,[4,8,6,5,7,9])"
   ]
  },
  {
   "cell_type": "code",
   "execution_count": 42,
   "id": "8e9ea6b0",
   "metadata": {},
   "outputs": [
    {
     "name": "stdout",
     "output_type": "stream",
     "text": [
      "4 8 6\n"
     ]
    }
   ],
   "source": [
    "print(*fil_obj)"
   ]
  },
  {
   "cell_type": "code",
   "execution_count": 43,
   "id": "417cafe4",
   "metadata": {},
   "outputs": [],
   "source": [
    "#lambda+filter\n",
    "\n",
    "fill_obj  = filter (lambda x:x%2==0,[4,8,1,68,3])"
   ]
  },
  {
   "cell_type": "code",
   "execution_count": 44,
   "id": "dae6ff59",
   "metadata": {},
   "outputs": [
    {
     "name": "stdout",
     "output_type": "stream",
     "text": [
      "4 8 68\n"
     ]
    }
   ],
   "source": [
    "print(*fill_obj)"
   ]
  },
  {
   "cell_type": "code",
   "execution_count": 45,
   "id": "891faeba",
   "metadata": {},
   "outputs": [
    {
     "ename": "StopIteration",
     "evalue": "",
     "output_type": "error",
     "traceback": [
      "\u001b[1;31m---------------------------------------------------------------------------\u001b[0m",
      "\u001b[1;31mStopIteration\u001b[0m                             Traceback (most recent call last)",
      "Cell \u001b[1;32mIn[45], line 1\u001b[0m\n\u001b[1;32m----> 1\u001b[0m \u001b[38;5;28;43mnext\u001b[39;49m\u001b[43m(\u001b[49m\u001b[43mfill_obj\u001b[49m\u001b[43m)\u001b[49m\n",
      "\u001b[1;31mStopIteration\u001b[0m: "
     ]
    }
   ],
   "source": [
    "next(fill_obj)"
   ]
  },
  {
   "cell_type": "code",
   "execution_count": 46,
   "id": "e92c84f8",
   "metadata": {},
   "outputs": [],
   "source": [
    "fill_obj1  = filter (lambda x:x%2==0,[4,8,1,68,3,45,78])"
   ]
  },
  {
   "cell_type": "code",
   "execution_count": 47,
   "id": "b473517a",
   "metadata": {},
   "outputs": [
    {
     "data": {
      "text/plain": [
       "4"
      ]
     },
     "execution_count": 47,
     "metadata": {},
     "output_type": "execute_result"
    }
   ],
   "source": [
    "next(fill_obj1)"
   ]
  },
  {
   "cell_type": "code",
   "execution_count": 48,
   "id": "9dc4806a",
   "metadata": {},
   "outputs": [
    {
     "data": {
      "text/plain": [
       "8"
      ]
     },
     "execution_count": 48,
     "metadata": {},
     "output_type": "execute_result"
    }
   ],
   "source": [
    "next(fill_obj1)"
   ]
  },
  {
   "cell_type": "code",
   "execution_count": 49,
   "id": "01229aaa",
   "metadata": {},
   "outputs": [
    {
     "data": {
      "text/plain": [
       "68"
      ]
     },
     "execution_count": 49,
     "metadata": {},
     "output_type": "execute_result"
    }
   ],
   "source": [
    "next(fill_obj1)"
   ]
  },
  {
   "cell_type": "code",
   "execution_count": 50,
   "id": "ccf6c03e",
   "metadata": {},
   "outputs": [
    {
     "data": {
      "text/plain": [
       "78"
      ]
     },
     "execution_count": 50,
     "metadata": {},
     "output_type": "execute_result"
    }
   ],
   "source": [
    "next(fill_obj1)"
   ]
  },
  {
   "cell_type": "code",
   "execution_count": 51,
   "id": "ee7ce6d6",
   "metadata": {},
   "outputs": [
    {
     "ename": "StopIteration",
     "evalue": "",
     "output_type": "error",
     "traceback": [
      "\u001b[1;31m---------------------------------------------------------------------------\u001b[0m",
      "\u001b[1;31mStopIteration\u001b[0m                             Traceback (most recent call last)",
      "Cell \u001b[1;32mIn[51], line 1\u001b[0m\n\u001b[1;32m----> 1\u001b[0m \u001b[38;5;28;43mnext\u001b[39;49m\u001b[43m(\u001b[49m\u001b[43mfill_obj1\u001b[49m\u001b[43m)\u001b[49m\n",
      "\u001b[1;31mStopIteration\u001b[0m: "
     ]
    }
   ],
   "source": [
    "next(fill_obj1)"
   ]
  },
  {
   "cell_type": "code",
   "execution_count": 52,
   "id": "bd2bdccf",
   "metadata": {},
   "outputs": [
    {
     "data": {
      "text/plain": [
       "8"
      ]
     },
     "execution_count": 52,
     "metadata": {},
     "output_type": "execute_result"
    }
   ],
   "source": [
    "addition(3,5)"
   ]
  },
  {
   "cell_type": "code",
   "execution_count": 53,
   "id": "80d62c47",
   "metadata": {},
   "outputs": [],
   "source": [
    "from functools import reduce"
   ]
  },
  {
   "cell_type": "code",
   "execution_count": 55,
   "id": "2ebac9a3",
   "metadata": {},
   "outputs": [
    {
     "data": {
      "text/plain": [
       "169"
      ]
     },
     "execution_count": 55,
     "metadata": {},
     "output_type": "execute_result"
    }
   ],
   "source": [
    "reduce (addition,[4,67,12,34,45,7])"
   ]
  },
  {
   "cell_type": "code",
   "execution_count": 61,
   "id": "c35bf15d",
   "metadata": {},
   "outputs": [
    {
     "data": {
      "text/plain": [
       "141"
      ]
     },
     "execution_count": 61,
     "metadata": {},
     "output_type": "execute_result"
    }
   ],
   "source": [
    "reduce (lambda x,y:x+y,[3,4,65,34,12,23])"
   ]
  },
  {
   "cell_type": "code",
   "execution_count": 5,
   "id": "0698db38",
   "metadata": {},
   "outputs": [
    {
     "data": {
      "text/plain": [
       "<map at 0x2aad3527610>"
      ]
     },
     "execution_count": 5,
     "metadata": {},
     "output_type": "execute_result"
    }
   ],
   "source": [
    "map(addition, [2, 1,3,6,5,4])"
   ]
  },
  {
   "cell_type": "code",
   "execution_count": 4,
   "id": "7e499f5e",
   "metadata": {},
   "outputs": [
    {
     "data": {
      "text/plain": [
       "<map at 0x2aad1e04b20>"
      ]
     },
     "execution_count": 4,
     "metadata": {},
     "output_type": "execute_result"
    }
   ],
   "source": [
    "#map\n",
    "\n",
    "map(addition, [3, 45,56,56,23,1])"
   ]
  },
  {
   "cell_type": "code",
   "execution_count": 75,
   "id": "7e35f9b7",
   "metadata": {},
   "outputs": [
    {
     "data": {
      "text/plain": [
       "(<function __main__.<lambda>(x, y)>, [3, 45, 56, 56, 23, 1])"
      ]
     },
     "execution_count": 75,
     "metadata": {},
     "output_type": "execute_result"
    }
   ],
   "source": [
    "map"
   ]
  },
  {
   "cell_type": "code",
   "execution_count": null,
   "id": "590965dc",
   "metadata": {},
   "outputs": [],
   "source": []
  },
  {
   "cell_type": "code",
   "execution_count": null,
   "id": "8a38df12",
   "metadata": {},
   "outputs": [],
   "source": []
  },
  {
   "cell_type": "code",
   "execution_count": null,
   "id": "f3ecbb30",
   "metadata": {},
   "outputs": [],
   "source": []
  },
  {
   "cell_type": "code",
   "execution_count": null,
   "id": "6d0610ba",
   "metadata": {},
   "outputs": [],
   "source": []
  }
 ],
 "metadata": {
  "kernelspec": {
   "display_name": "Python 3 (ipykernel)",
   "language": "python",
   "name": "python3"
  },
  "language_info": {
   "codemirror_mode": {
    "name": "ipython",
    "version": 3
   },
   "file_extension": ".py",
   "mimetype": "text/x-python",
   "name": "python",
   "nbconvert_exporter": "python",
   "pygments_lexer": "ipython3",
   "version": "3.10.9"
  }
 },
 "nbformat": 4,
 "nbformat_minor": 5
}
