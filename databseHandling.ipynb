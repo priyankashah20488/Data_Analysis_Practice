{
 "cells": [
  {
   "cell_type": "code",
   "execution_count": 3,
   "metadata": {},
   "outputs": [],
   "source": [
    "import sqlite3 as sql"
   ]
  },
  {
   "cell_type": "code",
   "execution_count": 4,
   "metadata": {},
   "outputs": [],
   "source": [
    "db = sql.connect(\"python_sqllite.db\")"
   ]
  },
  {
   "cell_type": "code",
   "execution_count": 5,
   "metadata": {},
   "outputs": [],
   "source": [
    "db_courser = db.cursor()\n"
   ]
  },
  {
   "cell_type": "code",
   "execution_count": 12,
   "metadata": {},
   "outputs": [],
   "source": [
    "cmd = 'create table users(id int,name varchar(25),city varchar(25));'"
   ]
  },
  {
   "cell_type": "code",
   "execution_count": 8,
   "metadata": {},
   "outputs": [
    {
     "ename": "OperationalError",
     "evalue": "table users already exists",
     "output_type": "error",
     "traceback": [
      "\u001b[1;31m---------------------------------------------------------------------------\u001b[0m",
      "\u001b[1;31mOperationalError\u001b[0m                          Traceback (most recent call last)",
      "Cell \u001b[1;32mIn[8], line 1\u001b[0m\n\u001b[1;32m----> 1\u001b[0m db\u001b[39m.\u001b[39;49mexecute(cmd)\n",
      "\u001b[1;31mOperationalError\u001b[0m: table users already exists"
     ]
    }
   ],
   "source": [
    "db.execute(cmd)"
   ]
  },
  {
   "cell_type": "code",
   "execution_count": null,
   "metadata": {},
   "outputs": [],
   "source": [
    "db.commit()"
   ]
  },
  {
   "cell_type": "code",
   "execution_count": null,
   "metadata": {},
   "outputs": [],
   "source": [
    "data = {\n",
    "    \"id\" : 1,\n",
    "    \"Name\" : \"Priyanka\",\n",
    "    \"city\" : \"Ahmedabad\"\n",
    "}\n"
   ]
  },
  {
   "cell_type": "code",
   "execution_count": null,
   "metadata": {},
   "outputs": [],
   "source": [
    "cmd = f'insert into users {tuple(data.keys())} values{tuple(data.values())};'"
   ]
  },
  {
   "cell_type": "code",
   "execution_count": null,
   "metadata": {},
   "outputs": [
    {
     "data": {
      "text/plain": [
       "<sqlite3.Cursor at 0x18c39e94dc0>"
      ]
     },
     "execution_count": 22,
     "metadata": {},
     "output_type": "execute_result"
    }
   ],
   "source": [
    "db.execute(cmd)"
   ]
  },
  {
   "cell_type": "code",
   "execution_count": null,
   "metadata": {},
   "outputs": [],
   "source": [
    "db.commit()"
   ]
  },
  {
   "cell_type": "code",
   "execution_count": null,
   "metadata": {},
   "outputs": [],
   "source": [
    "data = [\n",
    "    {\n",
    "        \"id\" : 2,\n",
    "        \"Name\" : \"Aarvee\",\n",
    "        \"city\" : \"Surat\"\n",
    "    },\n",
    "    {\n",
    "        \"id\" : 3,\n",
    "        \"Name\" : \"Rajvee\",\n",
    "        \"city\" : \"Mumbai\"\n",
    "    },\n",
    "    {\n",
    "        \"id\" : 4,\n",
    "        \"Name\" : \"Neha\",\n",
    "        \"city\" : \"Surat\"\n",
    "    }\n",
    "]"
   ]
  },
  {
   "cell_type": "code",
   "execution_count": 10,
   "metadata": {},
   "outputs": [
    {
     "ename": "NameError",
     "evalue": "name 'data' is not defined",
     "output_type": "error",
     "traceback": [
      "\u001b[1;31m---------------------------------------------------------------------------\u001b[0m",
      "\u001b[1;31mNameError\u001b[0m                                 Traceback (most recent call last)",
      "Cell \u001b[1;32mIn[10], line 1\u001b[0m\n\u001b[1;32m----> 1\u001b[0m \u001b[39mfor\u001b[39;00m d \u001b[39min\u001b[39;00m data:\n\u001b[0;32m      2\u001b[0m     cmd \u001b[39m=\u001b[39m \u001b[39mf\u001b[39m\u001b[39m'\u001b[39m\u001b[39minsert into users\u001b[39m\u001b[39m{\u001b[39;00m\u001b[39mtuple\u001b[39m(d\u001b[39m.\u001b[39mkeys())\u001b[39m}\u001b[39;00m\u001b[39m values\u001b[39m\u001b[39m{\u001b[39;00m\u001b[39mtuple\u001b[39m(d\u001b[39m.\u001b[39mvalues())\u001b[39m}\u001b[39;00m\u001b[39m;\u001b[39m\u001b[39m'\u001b[39m\n\u001b[0;32m      3\u001b[0m     \u001b[39mprint\u001b[39m(d)\n",
      "\u001b[1;31mNameError\u001b[0m: name 'data' is not defined"
     ]
    }
   ],
   "source": [
    "for d in data:\n",
    "    cmd = f'insert into users{tuple(d.keys())} values{tuple(d.values())};'\n",
    "    print(d)"
   ]
  },
  {
   "cell_type": "code",
   "execution_count": 5,
   "metadata": {},
   "outputs": [],
   "source": [
    "data = [\n",
    "    {\n",
    "        \"Name\":\"Piya\",\n",
    "        \"city\":\"baroda\"\n",
    "    },\n",
    "    {\n",
    "        \"Name\":\"jinal\",\n",
    "        \"city\":\"bombay\"\n",
    "    },\n",
    "    {\n",
    "        \"Name\":\"kushal\",\n",
    "        \"city\":\"Ahmedabad\"\n",
    "    }\n",
    "]"
   ]
  },
  {
   "cell_type": "code",
   "execution_count": 23,
   "metadata": {},
   "outputs": [
    {
     "name": "stdout",
     "output_type": "stream",
     "text": [
      "insert into users('Name', 'city', 'id') values('Piya', 'baroda', 7);\n",
      "insert into users('Name', 'city', 'id') values('jinal', 'bombay', 8);\n",
      "insert into users('Name', 'city', 'id') values('kushal', 'Ahmedabad', 9);\n"
     ]
    }
   ],
   "source": [
    "db_courser.execute('select * from users;')\n",
    "last_id = db_courser.fetchall()[-1][0]\n",
    "new_id = last_id+1\n",
    "for d in data:\n",
    "    d[\"id\"] = new_id\n",
    "    cmd = f'insert into users{tuple(d.keys())} values{tuple(d.values())};'\n",
    "    db_courser.execute(cmd)\n",
    "    db.commit()\n",
    "    print(cmd)\n",
    "    new_id+=1\n",
    " "
   ]
  },
  {
   "cell_type": "code",
   "execution_count": 11,
   "metadata": {},
   "outputs": [],
   "source": [
    "cmd = 'update users set city = \"Mumbai\" where id=5'\n",
    "db_courser.execute(cmd)\n",
    "db.commit()"
   ]
  },
  {
   "cell_type": "code",
   "execution_count": 53,
   "metadata": {},
   "outputs": [],
   "source": [
    "# create table function(table_name,fildes)\n",
    "import sqlite3 as sql\n",
    "def create_table(tableName,**columns):\n",
    "    db = sql.connect(\"create.db\")\n",
    "    db_courser = db.cursor()\n",
    "    fields_Name = ','.join(columns)\n",
    "    cmd = f'create table {tableName}()'\n",
    "    db.commit()\n",
    "\n",
    "    "
   ]
  },
  {
   "cell_type": "code",
   "execution_count": 55,
   "metadata": {},
   "outputs": [
    {
     "ename": "TypeError",
     "evalue": "create_table() takes 2 positional arguments but 3 were given",
     "output_type": "error",
     "traceback": [
      "\u001b[1;31m---------------------------------------------------------------------------\u001b[0m",
      "\u001b[1;31mTypeError\u001b[0m                                 Traceback (most recent call last)",
      "Cell \u001b[1;32mIn[55], line 1\u001b[0m\n\u001b[1;32m----> 1\u001b[0m create_table(\u001b[39m'\u001b[39;49m\u001b[39mEmplyee\u001b[39;49m\u001b[39m'\u001b[39;49m,\u001b[39m\"\u001b[39;49m\u001b[39mid int\u001b[39;49m\u001b[39m\"\u001b[39;49m,\u001b[39m\"\u001b[39;49m\u001b[39mname varchar(25)\u001b[39;49m\u001b[39m\"\u001b[39;49m)\n",
      "\u001b[1;31mTypeError\u001b[0m: create_table() takes 2 positional arguments but 3 were given"
     ]
    }
   ],
   "source": [
    "create_table('Emplyee',\"id int\",\"name varchar(25)\")"
   ]
  },
  {
   "cell_type": "code",
   "execution_count": 6,
   "metadata": {},
   "outputs": [],
   "source": [
    "# insert_record(tbl_name, **fields)\n",
    "\n",
    "def insert_record(tbl_Name,**filds):\n",
    "   # db = sql.connect(\"pythonsqlite.db\")\n",
    "    db_courser = db.cursor()\n",
    "    cmd = f'insert into {tbl_Name}{tuple(filds.keys())} values {tuple(filds.values())}'\n",
    "    db_courser.execute(cmd)\n",
    "    db.commit()"
   ]
  },
  {
   "cell_type": "code",
   "execution_count": 7,
   "metadata": {},
   "outputs": [],
   "source": [
    "insert_record('users',id= 6,Name='priyanka',city='Ahmedabad')"
   ]
  },
  {
   "cell_type": "code",
   "execution_count": 12,
   "metadata": {},
   "outputs": [],
   "source": [
    "#import mysql\n",
    "\n",
    "import pymysql as sql\n"
   ]
  },
  {
   "cell_type": "code",
   "execution_count": 13,
   "metadata": {},
   "outputs": [],
   "source": [
    "db = sql.connect(host='localhost',user='root',password='admin',port=3306)"
   ]
  },
  {
   "cell_type": "code",
   "execution_count": 3,
   "metadata": {},
   "outputs": [],
   "source": [
    "data = [\n",
    "    {\n",
    "        \"id\" : 2,\n",
    "        \"Name\" : \"Aarvee\",\n",
    "        \"city\" : \"Surat\"\n",
    "    },\n",
    "    {\n",
    "        \"id\" : 3,\n",
    "        \"Name\" : \"Rajvee\",\n",
    "        \"city\" : \"Mumbai\"\n",
    "    },\n",
    "    {\n",
    "        \"id\" : 4,\n",
    "        \"Name\" : \"Neha\",\n",
    "        \"city\" : \"Surat\"\n",
    "    }\n",
    "]"
   ]
  },
  {
   "cell_type": "code",
   "execution_count": 4,
   "metadata": {},
   "outputs": [
    {
     "name": "stdout",
     "output_type": "stream",
     "text": [
      "insert into tbl_name('id', 'Name', 'city')values(2, 'Aarvee', 'Surat')\n",
      "insert into tbl_name('id', 'Name', 'city')values(3, 'Rajvee', 'Mumbai')\n",
      "insert into tbl_name('id', 'Name', 'city')values(4, 'Neha', 'Surat')\n"
     ]
    }
   ],
   "source": [
    "for d in data:\n",
    "    cols = tuple(d.keys())\n",
    "    values = tuple(d.values())\n",
    "    query = f'''insert into tbl_name{cols}values{values}'''\n",
    "    print(query)"
   ]
  },
  {
   "cell_type": "code",
   "execution_count": null,
   "metadata": {},
   "outputs": [],
   "source": []
  },
  {
   "cell_type": "code",
   "execution_count": 14,
   "metadata": {},
   "outputs": [],
   "source": [
    "db_courser = db.cursor()"
   ]
  },
  {
   "cell_type": "code",
   "execution_count": 6,
   "metadata": {},
   "outputs": [
    {
     "data": {
      "text/plain": [
       "7"
      ]
     },
     "execution_count": 6,
     "metadata": {},
     "output_type": "execute_result"
    }
   ],
   "source": [
    "db_courser.execute('show databases;')"
   ]
  },
  {
   "cell_type": "code",
   "execution_count": 12,
   "metadata": {},
   "outputs": [
    {
     "data": {
      "text/plain": [
       "(('information_schema',),\n",
       " ('mysql',),\n",
       " ('performance_schema',),\n",
       " ('sakila',),\n",
       " ('sys',),\n",
       " ('world',))"
      ]
     },
     "execution_count": 12,
     "metadata": {},
     "output_type": "execute_result"
    }
   ],
   "source": [
    "db_courser.fetchall()"
   ]
  },
  {
   "cell_type": "code",
   "execution_count": 15,
   "metadata": {},
   "outputs": [
    {
     "data": {
      "text/plain": [
       "0"
      ]
     },
     "execution_count": 15,
     "metadata": {},
     "output_type": "execute_result"
    }
   ],
   "source": [
    "db_courser.execute(\"use testdb;\")"
   ]
  },
  {
   "cell_type": "code",
   "execution_count": 16,
   "metadata": {},
   "outputs": [
    {
     "data": {
      "text/plain": [
       "7"
      ]
     },
     "execution_count": 16,
     "metadata": {},
     "output_type": "execute_result"
    }
   ],
   "source": [
    "db_courser.execute(\"show databases;\")"
   ]
  },
  {
   "cell_type": "code",
   "execution_count": 17,
   "metadata": {},
   "outputs": [
    {
     "data": {
      "text/plain": [
       "(('information_schema',),\n",
       " ('mysql',),\n",
       " ('performance_schema',),\n",
       " ('sakila',),\n",
       " ('sys',),\n",
       " ('testdb',),\n",
       " ('world',))"
      ]
     },
     "execution_count": 17,
     "metadata": {},
     "output_type": "execute_result"
    }
   ],
   "source": [
    "db_courser.fetchall()"
   ]
  },
  {
   "cell_type": "code",
   "execution_count": 18,
   "metadata": {},
   "outputs": [
    {
     "data": {
      "text/plain": [
       "0"
      ]
     },
     "execution_count": 18,
     "metadata": {},
     "output_type": "execute_result"
    }
   ],
   "source": [
    "db_courser.execute('create table users(id int,Name varchar(25),city varchar(25));')"
   ]
  },
  {
   "cell_type": "code",
   "execution_count": 20,
   "metadata": {},
   "outputs": [
    {
     "data": {
      "text/plain": [
       "1"
      ]
     },
     "execution_count": 20,
     "metadata": {},
     "output_type": "execute_result"
    }
   ],
   "source": [
    "db_courser.execute(\"insert into users (id,Name,city) values(1,'Priyanka','Surat');\")"
   ]
  },
  {
   "cell_type": "code",
   "execution_count": null,
   "metadata": {},
   "outputs": [],
   "source": [
    "db.commit()"
   ]
  }
 ],
 "metadata": {
  "kernelspec": {
   "display_name": "base",
   "language": "python",
   "name": "python3"
  },
  "language_info": {
   "codemirror_mode": {
    "name": "ipython",
    "version": 3
   },
   "file_extension": ".py",
   "mimetype": "text/x-python",
   "name": "python",
   "nbconvert_exporter": "python",
   "pygments_lexer": "ipython3",
   "version": "3.10.9"
  },
  "orig_nbformat": 4
 },
 "nbformat": 4,
 "nbformat_minor": 2
}
