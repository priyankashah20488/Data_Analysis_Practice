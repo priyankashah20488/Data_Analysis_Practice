{
 "cells": [
  {
   "cell_type": "code",
   "execution_count": 1,
   "id": "1520c110",
   "metadata": {},
   "outputs": [],
   "source": [
    "name = \"priyanka\""
   ]
  },
  {
   "cell_type": "code",
   "execution_count": 2,
   "id": "892d08ce",
   "metadata": {},
   "outputs": [
    {
     "data": {
      "text/plain": [
       "str"
      ]
     },
     "execution_count": 2,
     "metadata": {},
     "output_type": "execute_result"
    }
   ],
   "source": [
    "type(name)"
   ]
  },
  {
   "cell_type": "code",
   "execution_count": 3,
   "id": "7d587788",
   "metadata": {},
   "outputs": [
    {
     "data": {
      "text/plain": [
       "['__add__',\n",
       " '__class__',\n",
       " '__contains__',\n",
       " '__delattr__',\n",
       " '__dir__',\n",
       " '__doc__',\n",
       " '__eq__',\n",
       " '__format__',\n",
       " '__ge__',\n",
       " '__getattribute__',\n",
       " '__getitem__',\n",
       " '__getnewargs__',\n",
       " '__gt__',\n",
       " '__hash__',\n",
       " '__init__',\n",
       " '__init_subclass__',\n",
       " '__iter__',\n",
       " '__le__',\n",
       " '__len__',\n",
       " '__lt__',\n",
       " '__mod__',\n",
       " '__mul__',\n",
       " '__ne__',\n",
       " '__new__',\n",
       " '__reduce__',\n",
       " '__reduce_ex__',\n",
       " '__repr__',\n",
       " '__rmod__',\n",
       " '__rmul__',\n",
       " '__setattr__',\n",
       " '__sizeof__',\n",
       " '__str__',\n",
       " '__subclasshook__',\n",
       " 'capitalize',\n",
       " 'casefold',\n",
       " 'center',\n",
       " 'count',\n",
       " 'encode',\n",
       " 'endswith',\n",
       " 'expandtabs',\n",
       " 'find',\n",
       " 'format',\n",
       " 'format_map',\n",
       " 'index',\n",
       " 'isalnum',\n",
       " 'isalpha',\n",
       " 'isascii',\n",
       " 'isdecimal',\n",
       " 'isdigit',\n",
       " 'isidentifier',\n",
       " 'islower',\n",
       " 'isnumeric',\n",
       " 'isprintable',\n",
       " 'isspace',\n",
       " 'istitle',\n",
       " 'isupper',\n",
       " 'join',\n",
       " 'ljust',\n",
       " 'lower',\n",
       " 'lstrip',\n",
       " 'maketrans',\n",
       " 'partition',\n",
       " 'removeprefix',\n",
       " 'removesuffix',\n",
       " 'replace',\n",
       " 'rfind',\n",
       " 'rindex',\n",
       " 'rjust',\n",
       " 'rpartition',\n",
       " 'rsplit',\n",
       " 'rstrip',\n",
       " 'split',\n",
       " 'splitlines',\n",
       " 'startswith',\n",
       " 'strip',\n",
       " 'swapcase',\n",
       " 'title',\n",
       " 'translate',\n",
       " 'upper',\n",
       " 'zfill']"
      ]
     },
     "execution_count": 3,
     "metadata": {},
     "output_type": "execute_result"
    }
   ],
   "source": [
    "dir(name)"
   ]
  },
  {
   "cell_type": "code",
   "execution_count": 4,
   "id": "93cd8b61",
   "metadata": {},
   "outputs": [
    {
     "data": {
      "text/plain": [
       "2017848257648"
      ]
     },
     "execution_count": 4,
     "metadata": {},
     "output_type": "execute_result"
    }
   ],
   "source": [
    "id(name)"
   ]
  },
  {
   "cell_type": "code",
   "execution_count": 5,
   "id": "cac3fd8c",
   "metadata": {},
   "outputs": [],
   "source": [
    "number = 5"
   ]
  },
  {
   "cell_type": "code",
   "execution_count": 6,
   "id": "cb198360",
   "metadata": {},
   "outputs": [
    {
     "data": {
      "text/plain": [
       "int"
      ]
     },
     "execution_count": 6,
     "metadata": {},
     "output_type": "execute_result"
    }
   ],
   "source": [
    "type(number)"
   ]
  },
  {
   "cell_type": "code",
   "execution_count": 7,
   "id": "cde33559",
   "metadata": {},
   "outputs": [],
   "source": [
    "price = 2.45"
   ]
  },
  {
   "cell_type": "code",
   "execution_count": 8,
   "id": "2ce53840",
   "metadata": {},
   "outputs": [
    {
     "data": {
      "text/plain": [
       "float"
      ]
     },
     "execution_count": 8,
     "metadata": {},
     "output_type": "execute_result"
    }
   ],
   "source": [
    "type(price)"
   ]
  },
  {
   "cell_type": "code",
   "execution_count": 9,
   "id": "89dfb438",
   "metadata": {},
   "outputs": [],
   "source": [
    "c = 2+3j"
   ]
  },
  {
   "cell_type": "code",
   "execution_count": 10,
   "id": "0d82bb1b",
   "metadata": {},
   "outputs": [
    {
     "data": {
      "text/plain": [
       "complex"
      ]
     },
     "execution_count": 10,
     "metadata": {},
     "output_type": "execute_result"
    }
   ],
   "source": [
    "type(c)"
   ]
  },
  {
   "cell_type": "code",
   "execution_count": 12,
   "id": "47f77379",
   "metadata": {},
   "outputs": [],
   "source": [
    "c = 23+45j"
   ]
  },
  {
   "cell_type": "code",
   "execution_count": 13,
   "id": "3ddae879",
   "metadata": {},
   "outputs": [
    {
     "data": {
      "text/plain": [
       "complex"
      ]
     },
     "execution_count": 13,
     "metadata": {},
     "output_type": "execute_result"
    }
   ],
   "source": [
    "type(c)"
   ]
  },
  {
   "cell_type": "code",
   "execution_count": 14,
   "id": "64b70524",
   "metadata": {},
   "outputs": [],
   "source": [
    "Number = 5"
   ]
  },
  {
   "cell_type": "code",
   "execution_count": 15,
   "id": "7770f69d",
   "metadata": {},
   "outputs": [
    {
     "data": {
      "text/plain": [
       "6"
      ]
     },
     "execution_count": 15,
     "metadata": {},
     "output_type": "execute_result"
    }
   ],
   "source": [
    "Number +1"
   ]
  },
  {
   "cell_type": "code",
   "execution_count": 16,
   "id": "0c0f2462",
   "metadata": {},
   "outputs": [
    {
     "data": {
      "text/plain": [
       "5"
      ]
     },
     "execution_count": 16,
     "metadata": {},
     "output_type": "execute_result"
    }
   ],
   "source": [
    "number"
   ]
  },
  {
   "cell_type": "code",
   "execution_count": 17,
   "id": "df444c9a",
   "metadata": {},
   "outputs": [
    {
     "data": {
      "text/plain": [
       "5"
      ]
     },
     "execution_count": 17,
     "metadata": {},
     "output_type": "execute_result"
    }
   ],
   "source": [
    "Number"
   ]
  },
  {
   "cell_type": "code",
   "execution_count": 18,
   "id": "31d327fd",
   "metadata": {},
   "outputs": [],
   "source": [
    "Number+=1"
   ]
  },
  {
   "cell_type": "code",
   "execution_count": 19,
   "id": "7044d751",
   "metadata": {},
   "outputs": [
    {
     "data": {
      "text/plain": [
       "6"
      ]
     },
     "execution_count": 19,
     "metadata": {},
     "output_type": "execute_result"
    }
   ],
   "source": [
    "Number"
   ]
  },
  {
   "cell_type": "code",
   "execution_count": 20,
   "id": "ea34b695",
   "metadata": {},
   "outputs": [
    {
     "data": {
      "text/plain": [
       "12"
      ]
     },
     "execution_count": 20,
     "metadata": {},
     "output_type": "execute_result"
    }
   ],
   "source": [
    "Number*2"
   ]
  },
  {
   "cell_type": "code",
   "execution_count": 21,
   "id": "81d0761c",
   "metadata": {},
   "outputs": [
    {
     "data": {
      "text/plain": [
       "1296"
      ]
     },
     "execution_count": 21,
     "metadata": {},
     "output_type": "execute_result"
    }
   ],
   "source": [
    "Number**4"
   ]
  },
  {
   "cell_type": "code",
   "execution_count": 22,
   "id": "25543923",
   "metadata": {},
   "outputs": [
    {
     "data": {
      "text/plain": [
       "25"
      ]
     },
     "execution_count": 22,
     "metadata": {},
     "output_type": "execute_result"
    }
   ],
   "source": [
    "5**2"
   ]
  },
  {
   "cell_type": "code",
   "execution_count": 23,
   "id": "ce190ac9",
   "metadata": {},
   "outputs": [
    {
     "data": {
      "text/plain": [
       "2.5"
      ]
     },
     "execution_count": 23,
     "metadata": {},
     "output_type": "execute_result"
    }
   ],
   "source": [
    "5/2"
   ]
  },
  {
   "cell_type": "code",
   "execution_count": 24,
   "id": "a199d4ae",
   "metadata": {},
   "outputs": [
    {
     "data": {
      "text/plain": [
       "2.0"
      ]
     },
     "execution_count": 24,
     "metadata": {},
     "output_type": "execute_result"
    }
   ],
   "source": [
    "4/2"
   ]
  },
  {
   "cell_type": "code",
   "execution_count": 25,
   "id": "6497b25a",
   "metadata": {},
   "outputs": [
    {
     "data": {
      "text/plain": [
       "2"
      ]
     },
     "execution_count": 25,
     "metadata": {},
     "output_type": "execute_result"
    }
   ],
   "source": [
    "4//2"
   ]
  },
  {
   "cell_type": "code",
   "execution_count": 26,
   "id": "6b3a739f",
   "metadata": {},
   "outputs": [
    {
     "data": {
      "text/plain": [
       "2"
      ]
     },
     "execution_count": 26,
     "metadata": {},
     "output_type": "execute_result"
    }
   ],
   "source": [
    "5//2"
   ]
  },
  {
   "cell_type": "code",
   "execution_count": 27,
   "id": "3626191b",
   "metadata": {},
   "outputs": [
    {
     "data": {
      "text/plain": [
       "2.0"
      ]
     },
     "execution_count": 27,
     "metadata": {},
     "output_type": "execute_result"
    }
   ],
   "source": [
    "4.0//2"
   ]
  },
  {
   "cell_type": "code",
   "execution_count": 28,
   "id": "b55f4924",
   "metadata": {},
   "outputs": [
    {
     "data": {
      "text/plain": [
       "2"
      ]
     },
     "execution_count": 28,
     "metadata": {},
     "output_type": "execute_result"
    }
   ],
   "source": [
    "4//2"
   ]
  },
  {
   "cell_type": "code",
   "execution_count": 29,
   "id": "b0d4a797",
   "metadata": {},
   "outputs": [
    {
     "data": {
      "text/plain": [
       "2.0"
      ]
     },
     "execution_count": 29,
     "metadata": {},
     "output_type": "execute_result"
    }
   ],
   "source": [
    "5.0//2"
   ]
  },
  {
   "cell_type": "code",
   "execution_count": 30,
   "id": "016b4018",
   "metadata": {},
   "outputs": [
    {
     "data": {
      "text/plain": [
       "1"
      ]
     },
     "execution_count": 30,
     "metadata": {},
     "output_type": "execute_result"
    }
   ],
   "source": [
    "5%2"
   ]
  },
  {
   "cell_type": "code",
   "execution_count": 31,
   "id": "07070e5c",
   "metadata": {},
   "outputs": [
    {
     "data": {
      "text/plain": [
       "True"
      ]
     },
     "execution_count": 31,
     "metadata": {},
     "output_type": "execute_result"
    }
   ],
   "source": [
    "5==5"
   ]
  },
  {
   "cell_type": "code",
   "execution_count": 32,
   "id": "f206421d",
   "metadata": {},
   "outputs": [
    {
     "data": {
      "text/plain": [
       "True"
      ]
     },
     "execution_count": 32,
     "metadata": {},
     "output_type": "execute_result"
    }
   ],
   "source": [
    "5!=\"abc\""
   ]
  },
  {
   "cell_type": "code",
   "execution_count": 33,
   "id": "b4ee42fd",
   "metadata": {},
   "outputs": [
    {
     "data": {
      "text/plain": [
       "False"
      ]
     },
     "execution_count": 33,
     "metadata": {},
     "output_type": "execute_result"
    }
   ],
   "source": [
    "5!=5"
   ]
  },
  {
   "cell_type": "code",
   "execution_count": 34,
   "id": "0a3480c5",
   "metadata": {},
   "outputs": [
    {
     "data": {
      "text/plain": [
       "False"
      ]
     },
     "execution_count": 34,
     "metadata": {},
     "output_type": "execute_result"
    }
   ],
   "source": [
    "5>23"
   ]
  },
  {
   "cell_type": "code",
   "execution_count": 35,
   "id": "c4687b1e",
   "metadata": {},
   "outputs": [
    {
     "data": {
      "text/plain": [
       "False"
      ]
     },
     "execution_count": 35,
     "metadata": {},
     "output_type": "execute_result"
    }
   ],
   "source": [
    "34<2"
   ]
  },
  {
   "cell_type": "code",
   "execution_count": 36,
   "id": "a9b28fcd",
   "metadata": {},
   "outputs": [
    {
     "data": {
      "text/plain": [
       "True"
      ]
     },
     "execution_count": 36,
     "metadata": {},
     "output_type": "execute_result"
    }
   ],
   "source": [
    "2>1"
   ]
  },
  {
   "cell_type": "code",
   "execution_count": 37,
   "id": "95f8b7b4",
   "metadata": {},
   "outputs": [
    {
     "data": {
      "text/plain": [
       "True"
      ]
     },
     "execution_count": 37,
     "metadata": {},
     "output_type": "execute_result"
    }
   ],
   "source": [
    "5>=5"
   ]
  },
  {
   "cell_type": "code",
   "execution_count": 38,
   "id": "83573caf",
   "metadata": {},
   "outputs": [
    {
     "data": {
      "text/plain": [
       "False"
      ]
     },
     "execution_count": 38,
     "metadata": {},
     "output_type": "execute_result"
    }
   ],
   "source": [
    "5<=1"
   ]
  },
  {
   "cell_type": "code",
   "execution_count": 39,
   "id": "33aee312",
   "metadata": {},
   "outputs": [
    {
     "data": {
      "text/plain": [
       "True"
      ]
     },
     "execution_count": 39,
     "metadata": {},
     "output_type": "execute_result"
    }
   ],
   "source": [
    "#Membership\n",
    "'h'in'hello'"
   ]
  },
  {
   "cell_type": "code",
   "execution_count": 40,
   "id": "a720dc2a",
   "metadata": {},
   "outputs": [
    {
     "data": {
      "text/plain": [
       "True"
      ]
     },
     "execution_count": 40,
     "metadata": {},
     "output_type": "execute_result"
    }
   ],
   "source": [
    "\"h\"not in \"Hello\""
   ]
  },
  {
   "cell_type": "code",
   "execution_count": 41,
   "id": "0b4d4bfc",
   "metadata": {},
   "outputs": [
    {
     "data": {
      "text/plain": [
       "False"
      ]
     },
     "execution_count": 41,
     "metadata": {},
     "output_type": "execute_result"
    }
   ],
   "source": [
    "\"h\" in \"Hello\""
   ]
  },
  {
   "cell_type": "code",
   "execution_count": 42,
   "id": "d79cca49",
   "metadata": {},
   "outputs": [
    {
     "data": {
      "text/plain": [
       "False"
      ]
     },
     "execution_count": 42,
     "metadata": {},
     "output_type": "execute_result"
    }
   ],
   "source": [
    "not \"h\" in \"hello\""
   ]
  },
  {
   "cell_type": "code",
   "execution_count": 43,
   "id": "3dc2a075",
   "metadata": {},
   "outputs": [
    {
     "data": {
      "text/plain": [
       "True"
      ]
     },
     "execution_count": 43,
     "metadata": {},
     "output_type": "execute_result"
    }
   ],
   "source": [
    "not \"h\" in \"Hello\""
   ]
  },
  {
   "cell_type": "code",
   "execution_count": 44,
   "id": "088b8568",
   "metadata": {},
   "outputs": [
    {
     "data": {
      "text/plain": [
       "True"
      ]
     },
     "execution_count": 44,
     "metadata": {},
     "output_type": "execute_result"
    }
   ],
   "source": [
    "\"h\" in \"hello\" and \"o\" in \"hello\""
   ]
  },
  {
   "cell_type": "code",
   "execution_count": 45,
   "id": "c3b0b9ea",
   "metadata": {},
   "outputs": [
    {
     "name": "stderr",
     "output_type": "stream",
     "text": [
      "<>:1: SyntaxWarning: \"is\" with a literal. Did you mean \"==\"?\n",
      "<>:1: SyntaxWarning: \"is\" with a literal. Did you mean \"==\"?\n",
      "C:\\Users\\Admin\\AppData\\Local\\Temp\\ipykernel_1492\\1783323536.py:1: SyntaxWarning: \"is\" with a literal. Did you mean \"==\"?\n",
      "  5 is 5\n"
     ]
    },
    {
     "data": {
      "text/plain": [
       "True"
      ]
     },
     "execution_count": 45,
     "metadata": {},
     "output_type": "execute_result"
    }
   ],
   "source": [
    "5 is 5"
   ]
  },
  {
   "cell_type": "code",
   "execution_count": 46,
   "id": "37d4b88f",
   "metadata": {},
   "outputs": [
    {
     "name": "stderr",
     "output_type": "stream",
     "text": [
      "<>:1: SyntaxWarning: \"is not\" with a literal. Did you mean \"!=\"?\n",
      "<>:1: SyntaxWarning: \"is not\" with a literal. Did you mean \"!=\"?\n",
      "C:\\Users\\Admin\\AppData\\Local\\Temp\\ipykernel_1492\\3333959868.py:1: SyntaxWarning: \"is not\" with a literal. Did you mean \"!=\"?\n",
      "  5 is not 5\n"
     ]
    },
    {
     "data": {
      "text/plain": [
       "False"
      ]
     },
     "execution_count": 46,
     "metadata": {},
     "output_type": "execute_result"
    }
   ],
   "source": [
    "5 is not 5 "
   ]
  },
  {
   "cell_type": "code",
   "execution_count": 50,
   "id": "96f8fe17",
   "metadata": {},
   "outputs": [],
   "source": [
    "address = '''c/1101, dev aurum Residency\n",
    "Near deer circle,prahlad nagar\n",
    "Ahmedabad'''"
   ]
  },
  {
   "cell_type": "code",
   "execution_count": 51,
   "id": "eb2eda88",
   "metadata": {},
   "outputs": [
    {
     "data": {
      "text/plain": [
       "'c/1101, dev aurum Residency\\nNear deer circle,prahlad nagar\\nAhmedabad'"
      ]
     },
     "execution_count": 51,
     "metadata": {},
     "output_type": "execute_result"
    }
   ],
   "source": [
    "address"
   ]
  },
  {
   "cell_type": "code",
   "execution_count": 52,
   "id": "c308c9ef",
   "metadata": {},
   "outputs": [
    {
     "name": "stdout",
     "output_type": "stream",
     "text": [
      "c/1101, dev aurum Residency\n",
      "Near deer circle,prahlad nagar\n",
      "Ahmedabad\n"
     ]
    }
   ],
   "source": [
    "print(address)"
   ]
  },
  {
   "cell_type": "code",
   "execution_count": 53,
   "id": "be0f1fa5",
   "metadata": {},
   "outputs": [],
   "source": [
    "name = \"priyanka\""
   ]
  },
  {
   "cell_type": "code",
   "execution_count": 54,
   "id": "42da102e",
   "metadata": {},
   "outputs": [
    {
     "data": {
      "text/plain": [
       "'priyanka'"
      ]
     },
     "execution_count": 54,
     "metadata": {},
     "output_type": "execute_result"
    }
   ],
   "source": [
    "name"
   ]
  },
  {
   "cell_type": "code",
   "execution_count": 55,
   "id": "bf20dedd",
   "metadata": {},
   "outputs": [
    {
     "data": {
      "text/plain": [
       "'Priyanka'"
      ]
     },
     "execution_count": 55,
     "metadata": {},
     "output_type": "execute_result"
    }
   ],
   "source": [
    "name.capitalize()"
   ]
  },
  {
   "cell_type": "code",
   "execution_count": 56,
   "id": "deabb73d",
   "metadata": {},
   "outputs": [
    {
     "data": {
      "text/plain": [
       "'priyanka'"
      ]
     },
     "execution_count": 56,
     "metadata": {},
     "output_type": "execute_result"
    }
   ],
   "source": [
    "name.lower()"
   ]
  },
  {
   "cell_type": "code",
   "execution_count": 57,
   "id": "b5a98176",
   "metadata": {},
   "outputs": [
    {
     "data": {
      "text/plain": [
       "'PRIYANKA'"
      ]
     },
     "execution_count": 57,
     "metadata": {},
     "output_type": "execute_result"
    }
   ],
   "source": [
    "name.upper()"
   ]
  },
  {
   "cell_type": "code",
   "execution_count": 58,
   "id": "7c095df1",
   "metadata": {},
   "outputs": [
    {
     "data": {
      "text/plain": [
       "'priyanka'"
      ]
     },
     "execution_count": 58,
     "metadata": {},
     "output_type": "execute_result"
    }
   ],
   "source": [
    "name.casefold()"
   ]
  },
  {
   "cell_type": "code",
   "execution_count": 59,
   "id": "3bd3dd61",
   "metadata": {},
   "outputs": [
    {
     "data": {
      "text/plain": [
       "False"
      ]
     },
     "execution_count": 59,
     "metadata": {},
     "output_type": "execute_result"
    }
   ],
   "source": [
    "name.isupper()"
   ]
  },
  {
   "cell_type": "code",
   "execution_count": 60,
   "id": "bb757154",
   "metadata": {},
   "outputs": [
    {
     "data": {
      "text/plain": [
       "True"
      ]
     },
     "execution_count": 60,
     "metadata": {},
     "output_type": "execute_result"
    }
   ],
   "source": [
    "name.islower()"
   ]
  },
  {
   "cell_type": "code",
   "execution_count": 61,
   "id": "d8e20308",
   "metadata": {},
   "outputs": [
    {
     "data": {
      "text/plain": [
       "'c/1101, dev aurum Residency\\nNear deer circle,prahlad nagar\\nAhmedabad'"
      ]
     },
     "execution_count": 61,
     "metadata": {},
     "output_type": "execute_result"
    }
   ],
   "source": [
    "address"
   ]
  },
  {
   "cell_type": "code",
   "execution_count": 62,
   "id": "9fabe4bd",
   "metadata": {},
   "outputs": [
    {
     "data": {
      "text/plain": [
       "'C/1101, Dev Aurum Residency\\nNear Deer Circle,Prahlad Nagar\\nAhmedabad'"
      ]
     },
     "execution_count": 62,
     "metadata": {},
     "output_type": "execute_result"
    }
   ],
   "source": [
    "address.title()"
   ]
  },
  {
   "cell_type": "code",
   "execution_count": 63,
   "id": "be56ea98",
   "metadata": {},
   "outputs": [
    {
     "data": {
      "text/plain": [
       "0"
      ]
     },
     "execution_count": 63,
     "metadata": {},
     "output_type": "execute_result"
    }
   ],
   "source": [
    "name.count('d')"
   ]
  },
  {
   "cell_type": "code",
   "execution_count": 64,
   "id": "75b5387c",
   "metadata": {},
   "outputs": [
    {
     "data": {
      "text/plain": [
       "6"
      ]
     },
     "execution_count": 64,
     "metadata": {},
     "output_type": "execute_result"
    }
   ],
   "source": [
    "address.count('d')"
   ]
  },
  {
   "cell_type": "code",
   "execution_count": 65,
   "id": "fbee78ee",
   "metadata": {},
   "outputs": [
    {
     "data": {
      "text/plain": [
       "8"
      ]
     },
     "execution_count": 65,
     "metadata": {},
     "output_type": "execute_result"
    }
   ],
   "source": [
    "address.count('e')"
   ]
  },
  {
   "cell_type": "code",
   "execution_count": 66,
   "id": "58304081",
   "metadata": {},
   "outputs": [
    {
     "data": {
      "text/plain": [
       "68"
      ]
     },
     "execution_count": 66,
     "metadata": {},
     "output_type": "execute_result"
    }
   ],
   "source": [
    "len(address)"
   ]
  },
  {
   "cell_type": "code",
   "execution_count": 67,
   "id": "f23c0b36",
   "metadata": {},
   "outputs": [
    {
     "data": {
      "text/plain": [
       "'                     priyanka                     '"
      ]
     },
     "execution_count": 67,
     "metadata": {},
     "output_type": "execute_result"
    }
   ],
   "source": [
    "name.center(50)"
   ]
  },
  {
   "cell_type": "code",
   "execution_count": 68,
   "id": "28704fff",
   "metadata": {},
   "outputs": [
    {
     "data": {
      "text/plain": [
       "'            priyanka'"
      ]
     },
     "execution_count": 68,
     "metadata": {},
     "output_type": "execute_result"
    }
   ],
   "source": [
    "name.rjust(20)"
   ]
  },
  {
   "cell_type": "code",
   "execution_count": 69,
   "id": "756ad9e2",
   "metadata": {},
   "outputs": [
    {
     "data": {
      "text/plain": [
       "'priyanka                      '"
      ]
     },
     "execution_count": 69,
     "metadata": {},
     "output_type": "execute_result"
    }
   ],
   "source": [
    "name.ljust(30)"
   ]
  },
  {
   "cell_type": "code",
   "execution_count": 70,
   "id": "e433987c",
   "metadata": {},
   "outputs": [
    {
     "data": {
      "text/plain": [
       "'*********************priyanka*********************'"
      ]
     },
     "execution_count": 70,
     "metadata": {},
     "output_type": "execute_result"
    }
   ],
   "source": [
    "name.center(50,\"*\")"
   ]
  },
  {
   "cell_type": "code",
   "execution_count": 72,
   "id": "0c6eadab",
   "metadata": {},
   "outputs": [
    {
     "data": {
      "text/plain": [
       "'------priyanka------'"
      ]
     },
     "execution_count": 72,
     "metadata": {},
     "output_type": "execute_result"
    }
   ],
   "source": [
    "name.center(20,'-')"
   ]
  },
  {
   "cell_type": "markdown",
   "id": "1f073dc1",
   "metadata": {},
   "source": []
  },
  {
   "cell_type": "code",
   "execution_count": 73,
   "id": "1c42a272",
   "metadata": {},
   "outputs": [
    {
     "data": {
      "text/plain": [
       "True"
      ]
     },
     "execution_count": 73,
     "metadata": {},
     "output_type": "execute_result"
    }
   ],
   "source": [
    "name.startswith('p')"
   ]
  },
  {
   "cell_type": "code",
   "execution_count": 74,
   "id": "6dca66d5",
   "metadata": {},
   "outputs": [
    {
     "data": {
      "text/plain": [
       "True"
      ]
     },
     "execution_count": 74,
     "metadata": {},
     "output_type": "execute_result"
    }
   ],
   "source": [
    "name.endswith('a')"
   ]
  },
  {
   "cell_type": "code",
   "execution_count": 75,
   "id": "ac72dbe2",
   "metadata": {},
   "outputs": [],
   "source": [
    "string = \"Hello! welcome to logicrays\""
   ]
  },
  {
   "cell_type": "code",
   "execution_count": 76,
   "id": "5e81edd8",
   "metadata": {},
   "outputs": [
    {
     "data": {
      "text/plain": [
       "27"
      ]
     },
     "execution_count": 76,
     "metadata": {},
     "output_type": "execute_result"
    }
   ],
   "source": [
    "len(string)"
   ]
  },
  {
   "cell_type": "code",
   "execution_count": 77,
   "id": "c9a5eb73",
   "metadata": {},
   "outputs": [
    {
     "data": {
      "text/plain": [
       "'!'"
      ]
     },
     "execution_count": 77,
     "metadata": {},
     "output_type": "execute_result"
    }
   ],
   "source": [
    "string[5]"
   ]
  },
  {
   "cell_type": "code",
   "execution_count": 78,
   "id": "83d39ce7",
   "metadata": {},
   "outputs": [
    {
     "data": {
      "text/plain": [
       "'r'"
      ]
     },
     "execution_count": 78,
     "metadata": {},
     "output_type": "execute_result"
    }
   ],
   "source": [
    "string[23]"
   ]
  },
  {
   "cell_type": "code",
   "execution_count": 80,
   "id": "3afbe738",
   "metadata": {},
   "outputs": [
    {
     "data": {
      "text/plain": [
       "'s'"
      ]
     },
     "execution_count": 80,
     "metadata": {},
     "output_type": "execute_result"
    }
   ],
   "source": [
    "string[-1]"
   ]
  },
  {
   "cell_type": "code",
   "execution_count": 81,
   "id": "2e089348",
   "metadata": {},
   "outputs": [
    {
     "data": {
      "text/plain": [
       "4"
      ]
     },
     "execution_count": 81,
     "metadata": {},
     "output_type": "execute_result"
    }
   ],
   "source": [
    "string.find(\"o\")"
   ]
  },
  {
   "cell_type": "code",
   "execution_count": 82,
   "id": "6913aadb",
   "metadata": {},
   "outputs": [
    {
     "data": {
      "text/plain": [
       "-1"
      ]
     },
     "execution_count": 82,
     "metadata": {},
     "output_type": "execute_result"
    }
   ],
   "source": [
    "string.find('q')"
   ]
  },
  {
   "cell_type": "code",
   "execution_count": 83,
   "id": "0ff4ac21",
   "metadata": {},
   "outputs": [
    {
     "data": {
      "text/plain": [
       "13"
      ]
     },
     "execution_count": 83,
     "metadata": {},
     "output_type": "execute_result"
    }
   ],
   "source": [
    "string.rfind(\"e\")"
   ]
  },
  {
   "cell_type": "code",
   "execution_count": 84,
   "id": "a43a927a",
   "metadata": {},
   "outputs": [
    {
     "data": {
      "text/plain": [
       "23"
      ]
     },
     "execution_count": 84,
     "metadata": {},
     "output_type": "execute_result"
    }
   ],
   "source": [
    "string.index(\"r\")"
   ]
  },
  {
   "cell_type": "code",
   "execution_count": 85,
   "id": "e4533507",
   "metadata": {},
   "outputs": [
    {
     "data": {
      "text/plain": [
       "13"
      ]
     },
     "execution_count": 85,
     "metadata": {},
     "output_type": "execute_result"
    }
   ],
   "source": [
    "string.rindex(\"e\")"
   ]
  },
  {
   "cell_type": "code",
   "execution_count": 86,
   "id": "f1a3e702",
   "metadata": {},
   "outputs": [
    {
     "data": {
      "text/plain": [
       "'Hello'"
      ]
     },
     "execution_count": 86,
     "metadata": {},
     "output_type": "execute_result"
    }
   ],
   "source": [
    "\"     Hello     \".strip()"
   ]
  },
  {
   "cell_type": "code",
   "execution_count": 87,
   "id": "8a56ccda",
   "metadata": {},
   "outputs": [
    {
     "data": {
      "text/plain": [
       "'   hello'"
      ]
     },
     "execution_count": 87,
     "metadata": {},
     "output_type": "execute_result"
    }
   ],
   "source": [
    "\"   hello    \".rstrip()"
   ]
  },
  {
   "cell_type": "code",
   "execution_count": 88,
   "id": "424a6a4b",
   "metadata": {},
   "outputs": [
    {
     "data": {
      "text/plain": [
       "'hello   '"
      ]
     },
     "execution_count": 88,
     "metadata": {},
     "output_type": "execute_result"
    }
   ],
   "source": [
    "\"    hello   \".lstrip()"
   ]
  },
  {
   "cell_type": "code",
   "execution_count": 89,
   "id": "0bcd3e1e",
   "metadata": {},
   "outputs": [
    {
     "data": {
      "text/plain": [
       "'h  el l o'"
      ]
     },
     "execution_count": 89,
     "metadata": {},
     "output_type": "execute_result"
    }
   ],
   "source": [
    "\"  h  el l o  \".strip()"
   ]
  },
  {
   "cell_type": "code",
   "execution_count": 90,
   "id": "71a3f945",
   "metadata": {},
   "outputs": [
    {
     "data": {
      "text/plain": [
       "'Hello! welcome to logicrays'"
      ]
     },
     "execution_count": 90,
     "metadata": {},
     "output_type": "execute_result"
    }
   ],
   "source": [
    "string"
   ]
  },
  {
   "cell_type": "code",
   "execution_count": 91,
   "id": "3f38b66e",
   "metadata": {},
   "outputs": [
    {
     "data": {
      "text/plain": [
       "['Hello!', 'welcome', 'to', 'logicrays']"
      ]
     },
     "execution_count": 91,
     "metadata": {},
     "output_type": "execute_result"
    }
   ],
   "source": [
    "string.split()"
   ]
  },
  {
   "cell_type": "code",
   "execution_count": 93,
   "id": "38f819dc",
   "metadata": {},
   "outputs": [
    {
     "data": {
      "text/plain": [
       "['Hello!', 'welcome', 'to logicrays']"
      ]
     },
     "execution_count": 93,
     "metadata": {},
     "output_type": "execute_result"
    }
   ],
   "source": [
    "string.split(maxsplit=2)"
   ]
  },
  {
   "cell_type": "code",
   "execution_count": 95,
   "id": "aade9b9b",
   "metadata": {},
   "outputs": [
    {
     "data": {
      "text/plain": [
       "4"
      ]
     },
     "execution_count": 95,
     "metadata": {},
     "output_type": "execute_result"
    }
   ],
   "source": [
    "len(string.split())"
   ]
  },
  {
   "cell_type": "code",
   "execution_count": 96,
   "id": "0cf3f003",
   "metadata": {},
   "outputs": [
    {
     "data": {
      "text/plain": [
       "2"
      ]
     },
     "execution_count": 96,
     "metadata": {},
     "output_type": "execute_result"
    }
   ],
   "source": [
    "address.count(\"ad\")"
   ]
  },
  {
   "cell_type": "code",
   "execution_count": 98,
   "id": "c9fb79d9",
   "metadata": {},
   "outputs": [
    {
     "name": "stdout",
     "output_type": "stream",
     "text": [
      "enter numbers12,32,34,12\n"
     ]
    }
   ],
   "source": [
    "n = input(\"enter numbers\")\n",
    "num = n.split(',')"
   ]
  },
  {
   "cell_type": "code",
   "execution_count": 99,
   "id": "7b0eb908",
   "metadata": {},
   "outputs": [
    {
     "data": {
      "text/plain": [
       "['12', '32', '34', '12']"
      ]
     },
     "execution_count": 99,
     "metadata": {},
     "output_type": "execute_result"
    }
   ],
   "source": [
    "num"
   ]
  },
  {
   "cell_type": "code",
   "execution_count": 104,
   "id": "b26033c4",
   "metadata": {},
   "outputs": [
    {
     "name": "stdout",
     "output_type": "stream",
     "text": [
      "Enter numbers using , operator:23,45,43,34\n",
      "['23', '45', '43', '34']\n"
     ]
    }
   ],
   "source": [
    "l = list()\n",
    "n = input(\"Enter numbers using , operator:\")\n",
    "num = n.split(',')\n",
    "for i in num:\n",
    "  if i.isnumeric():\n",
    "    l.append(i)\n",
    "  else:\n",
    "    print(\"Invalid Input Only Numbers are allowed.\")\n",
    "    break\n",
    "print(l)"
   ]
  },
  {
   "cell_type": "code",
   "execution_count": 106,
   "id": "738099af",
   "metadata": {},
   "outputs": [
    {
     "name": "stdout",
     "output_type": "stream",
     "text": [
      "Enter numbers using , operator:23,34,45,67\n",
      "['23', '34', '45', '67']\n",
      "Converted into integer [23, 34, 45, 67]\n"
     ]
    }
   ],
   "source": [
    "l = list()\n",
    "n = input(\"Enter numbers using , operator:\")\n",
    "num = n.split(',')\n",
    "for i in num:\n",
    "  if i.isnumeric():\n",
    "    l.append(i)\n",
    "  else:\n",
    "    print(\"Invalid Input Only Numbers are allowed.\")\n",
    "    break\n",
    "print(l)\n",
    "for s in range(len(l)):\n",
    "    l[s]=int(l[s])\n",
    "print(\"Converted into integer\",l)    "
   ]
  },
  {
   "cell_type": "code",
   "execution_count": 107,
   "id": "037de66a",
   "metadata": {},
   "outputs": [
    {
     "data": {
      "text/plain": [
       "'s'"
      ]
     },
     "execution_count": 107,
     "metadata": {},
     "output_type": "execute_result"
    }
   ],
   "source": [
    "string[-1]"
   ]
  },
  {
   "cell_type": "code",
   "execution_count": 108,
   "id": "04fe2f66",
   "metadata": {},
   "outputs": [],
   "source": [
    "s=\" He l l o\".split()"
   ]
  },
  {
   "cell_type": "code",
   "execution_count": 109,
   "id": "3ccb5167",
   "metadata": {},
   "outputs": [
    {
     "data": {
      "text/plain": [
       "['He', 'l', 'l', 'o']"
      ]
     },
     "execution_count": 109,
     "metadata": {},
     "output_type": "execute_result"
    }
   ],
   "source": [
    "s"
   ]
  },
  {
   "cell_type": "code",
   "execution_count": 110,
   "id": "5bc0bac7",
   "metadata": {},
   "outputs": [
    {
     "name": "stdout",
     "output_type": "stream",
     "text": [
      "He l l o\n"
     ]
    }
   ],
   "source": [
    "print(*s)"
   ]
  },
  {
   "cell_type": "code",
   "execution_count": 112,
   "id": "54b5a2ac",
   "metadata": {},
   "outputs": [
    {
     "name": "stdout",
     "output_type": "stream",
     "text": [
      "Hello\n"
     ]
    }
   ],
   "source": [
    "print(*s,sep=\"\")"
   ]
  },
  {
   "cell_type": "code",
   "execution_count": 113,
   "id": "d11702ae",
   "metadata": {},
   "outputs": [
    {
     "data": {
      "text/plain": [
       "['Hello!', 'welcome', 'to', 'logicrays']"
      ]
     },
     "execution_count": 113,
     "metadata": {},
     "output_type": "execute_result"
    }
   ],
   "source": [
    "string.split()"
   ]
  },
  {
   "cell_type": "code",
   "execution_count": 114,
   "id": "1d1834f0",
   "metadata": {},
   "outputs": [
    {
     "data": {
      "text/plain": [
       "['Hello!', 'welcome', 'to', 'logicrays']"
      ]
     },
     "execution_count": 114,
     "metadata": {},
     "output_type": "execute_result"
    }
   ],
   "source": [
    "string.rsplit()"
   ]
  },
  {
   "cell_type": "code",
   "execution_count": 115,
   "id": "3db4bf6e",
   "metadata": {},
   "outputs": [
    {
     "data": {
      "text/plain": [
       "['Hello!', 'welcome', 'to logicrays']"
      ]
     },
     "execution_count": 115,
     "metadata": {},
     "output_type": "execute_result"
    }
   ],
   "source": [
    "string.split(maxsplit=2)"
   ]
  },
  {
   "cell_type": "code",
   "execution_count": 116,
   "id": "f1b3d6eb",
   "metadata": {},
   "outputs": [
    {
     "data": {
      "text/plain": [
       "['Hell', '! welc', 'me t', ' l', 'gicrays']"
      ]
     },
     "execution_count": 116,
     "metadata": {},
     "output_type": "execute_result"
    }
   ],
   "source": [
    "string.split(\"o\")"
   ]
  },
  {
   "cell_type": "code",
   "execution_count": 121,
   "id": "00a58276",
   "metadata": {},
   "outputs": [
    {
     "data": {
      "text/plain": [
       "'He*l*l*o'"
      ]
     },
     "execution_count": 121,
     "metadata": {},
     "output_type": "execute_result"
    }
   ],
   "source": [
    "'*'.join(s)"
   ]
  },
  {
   "cell_type": "code",
   "execution_count": 122,
   "id": "08a2abaa",
   "metadata": {},
   "outputs": [
    {
     "data": {
      "text/plain": [
       "'Hello'"
      ]
     },
     "execution_count": 122,
     "metadata": {},
     "output_type": "execute_result"
    }
   ],
   "source": [
    "\"\".join(s)"
   ]
  },
  {
   "cell_type": "code",
   "execution_count": 124,
   "id": "6ed7aef5",
   "metadata": {},
   "outputs": [
    {
     "name": "stdout",
     "output_type": "stream",
     "text": [
      "enter your name p ri ya \n",
      "priya\n"
     ]
    }
   ],
   "source": [
    "n = input(\"enter your name\")\n",
    "n = n.split()\n",
    "n = \"\".join(n)\n",
    "print(n)"
   ]
  },
  {
   "cell_type": "code",
   "execution_count": 125,
   "id": "dfff6d2a",
   "metadata": {},
   "outputs": [
    {
     "data": {
      "text/plain": [
       "['c/1101, dev aurum Residency', 'Near deer circle,prahlad nagar', 'Ahmedabad']"
      ]
     },
     "execution_count": 125,
     "metadata": {},
     "output_type": "execute_result"
    }
   ],
   "source": [
    "address.splitlines()"
   ]
  },
  {
   "cell_type": "code",
   "execution_count": 126,
   "id": "e5ddbc20",
   "metadata": {},
   "outputs": [
    {
     "data": {
      "text/plain": [
       "'c/1101, dev aurum Residency\\nNear deer circle,prahlad nagar\\nAhmedabad'"
      ]
     },
     "execution_count": 126,
     "metadata": {},
     "output_type": "execute_result"
    }
   ],
   "source": [
    "address"
   ]
  },
  {
   "cell_type": "code",
   "execution_count": 129,
   "id": "790f64f7",
   "metadata": {},
   "outputs": [
    {
     "data": {
      "text/plain": [
       "('Hell', 'o', '! welcome to logicrays')"
      ]
     },
     "execution_count": 129,
     "metadata": {},
     "output_type": "execute_result"
    }
   ],
   "source": [
    "string.partition('o')"
   ]
  },
  {
   "cell_type": "code",
   "execution_count": 130,
   "id": "ddaad834",
   "metadata": {},
   "outputs": [
    {
     "data": {
      "text/plain": [
       "'hEllo'"
      ]
     },
     "execution_count": 130,
     "metadata": {},
     "output_type": "execute_result"
    }
   ],
   "source": [
    "\"HeLLO\".swapcase()"
   ]
  },
  {
   "cell_type": "code",
   "execution_count": 131,
   "id": "f7f43e50",
   "metadata": {},
   "outputs": [],
   "source": [
    "greetings= \"Hello {} welcome to {}\""
   ]
  },
  {
   "cell_type": "code",
   "execution_count": 132,
   "id": "96a01d36",
   "metadata": {},
   "outputs": [
    {
     "data": {
      "text/plain": [
       "'Hello priyanka welcome to logicrays'"
      ]
     },
     "execution_count": 132,
     "metadata": {},
     "output_type": "execute_result"
    }
   ],
   "source": [
    "greetings.format(\"priyanka\",\"logicrays\")"
   ]
  },
  {
   "cell_type": "code",
   "execution_count": 138,
   "id": "27fd2875",
   "metadata": {},
   "outputs": [
    {
     "name": "stdout",
     "output_type": "stream",
     "text": [
      "enter your name: priyanka\n",
      "enter your age: 35\n",
      "priyanka 35\n"
     ]
    }
   ],
   "source": [
    "name = input(\"enter your name: \")\n",
    "a = input(\"enter your age: \")\n",
    "ans = f\"{name} {a}\"\n",
    "print(ans)"
   ]
  },
  {
   "cell_type": "code",
   "execution_count": 139,
   "id": "c1bf6c51",
   "metadata": {},
   "outputs": [
    {
     "data": {
      "text/plain": [
       "'Hello! welcome to logicrays'"
      ]
     },
     "execution_count": 139,
     "metadata": {},
     "output_type": "execute_result"
    }
   ],
   "source": [
    "string"
   ]
  },
  {
   "cell_type": "code",
   "execution_count": 140,
   "id": "d2a531eb",
   "metadata": {},
   "outputs": [
    {
     "data": {
      "text/plain": [
       "'Hellx! welcxme tx lxgicrays'"
      ]
     },
     "execution_count": 140,
     "metadata": {},
     "output_type": "execute_result"
    }
   ],
   "source": [
    "string.replace('o','x')"
   ]
  },
  {
   "cell_type": "code",
   "execution_count": 141,
   "id": "9cd726f3",
   "metadata": {},
   "outputs": [
    {
     "data": {
      "text/plain": [
       "'Hellx! welcxme to logicrays'"
      ]
     },
     "execution_count": 141,
     "metadata": {},
     "output_type": "execute_result"
    }
   ],
   "source": [
    "string.replace('o','x',2)"
   ]
  },
  {
   "cell_type": "code",
   "execution_count": 142,
   "id": "02d423ef",
   "metadata": {},
   "outputs": [
    {
     "data": {
      "text/plain": [
       "5"
      ]
     },
     "execution_count": 142,
     "metadata": {},
     "output_type": "execute_result"
    }
   ],
   "source": [
    "number"
   ]
  },
  {
   "cell_type": "code",
   "execution_count": 144,
   "id": "1f70c959",
   "metadata": {},
   "outputs": [
    {
     "data": {
      "text/plain": [
       "'00023'"
      ]
     },
     "execution_count": 144,
     "metadata": {},
     "output_type": "execute_result"
    }
   ],
   "source": [
    "\"23\".zfill(5)"
   ]
  },
  {
   "cell_type": "code",
   "execution_count": 146,
   "id": "14187d1e",
   "metadata": {},
   "outputs": [
    {
     "data": {
      "text/plain": [
       "97"
      ]
     },
     "execution_count": 146,
     "metadata": {},
     "output_type": "execute_result"
    }
   ],
   "source": [
    "ord('a')"
   ]
  },
  {
   "cell_type": "code",
   "execution_count": 147,
   "id": "5bbbbc05",
   "metadata": {},
   "outputs": [
    {
     "data": {
      "text/plain": [
       "65"
      ]
     },
     "execution_count": 147,
     "metadata": {},
     "output_type": "execute_result"
    }
   ],
   "source": [
    "ord(\"A\")"
   ]
  },
  {
   "cell_type": "code",
   "execution_count": 148,
   "id": "ff3b0490",
   "metadata": {},
   "outputs": [
    {
     "data": {
      "text/plain": [
       "32"
      ]
     },
     "execution_count": 148,
     "metadata": {},
     "output_type": "execute_result"
    }
   ],
   "source": [
    "ord(\"a\") - ord(\"A\")"
   ]
  },
  {
   "cell_type": "code",
   "execution_count": 153,
   "id": "c2320b23",
   "metadata": {},
   "outputs": [
    {
     "data": {
      "text/plain": [
       "'A'"
      ]
     },
     "execution_count": 153,
     "metadata": {},
     "output_type": "execute_result"
    }
   ],
   "source": [
    "a = ord(\"a\")-32\n",
    "chr(a)"
   ]
  },
  {
   "cell_type": "code",
   "execution_count": 154,
   "id": "5b7309c1",
   "metadata": {},
   "outputs": [
    {
     "data": {
      "text/plain": [
       "'priyanka'"
      ]
     },
     "execution_count": 154,
     "metadata": {},
     "output_type": "execute_result"
    }
   ],
   "source": [
    "name"
   ]
  },
  {
   "cell_type": "code",
   "execution_count": 155,
   "id": "ea63cbba",
   "metadata": {},
   "outputs": [
    {
     "name": "stdout",
     "output_type": "stream",
     "text": [
      "112\n",
      "114\n",
      "105\n",
      "121\n",
      "97\n",
      "110\n",
      "107\n",
      "97\n"
     ]
    }
   ],
   "source": [
    "for i in name:\n",
    "    print(ord(i))"
   ]
  },
  {
   "cell_type": "code",
   "execution_count": 156,
   "id": "8f69e38b",
   "metadata": {},
   "outputs": [
    {
     "name": "stdout",
     "output_type": "stream",
     "text": [
      "P\n",
      "R\n",
      "I\n",
      "Y\n",
      "A\n",
      "N\n",
      "K\n",
      "A\n"
     ]
    }
   ],
   "source": [
    "for i in name:\n",
    "    a=chr((ord(i))-32)\n",
    "    print(a)"
   ]
  },
  {
   "cell_type": "code",
   "execution_count": 161,
   "id": "b69d802a",
   "metadata": {},
   "outputs": [
    {
     "name": "stdout",
     "output_type": "stream",
     "text": [
      "p\n",
      "r\n",
      "i\n",
      "y\n",
      "a\n",
      "n\n",
      "k\n",
      "a\n"
     ]
    }
   ],
   "source": [
    "name = \"PRIYANKA\"\n",
    "for i in name:\n",
    "    a=chr((ord(i))+32)\n",
    "    print(a)    "
   ]
  },
  {
   "cell_type": "code",
   "execution_count": null,
   "id": "5655442f",
   "metadata": {},
   "outputs": [],
   "source": []
  }
 ],
 "metadata": {
  "kernelspec": {
   "display_name": "Python 3 (ipykernel)",
   "language": "python",
   "name": "python3"
  },
  "language_info": {
   "codemirror_mode": {
    "name": "ipython",
    "version": 3
   },
   "file_extension": ".py",
   "mimetype": "text/x-python",
   "name": "python",
   "nbconvert_exporter": "python",
   "pygments_lexer": "ipython3",
   "version": "3.10.9"
  }
 },
 "nbformat": 4,
 "nbformat_minor": 5
}
