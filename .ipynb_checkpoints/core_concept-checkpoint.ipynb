{
 "cells": [
  {
   "cell_type": "code",
   "execution_count": 1,
   "id": "ca26112b",
   "metadata": {},
   "outputs": [],
   "source": [
    "name='priynka'"
   ]
  },
  {
   "cell_type": "code",
   "execution_count": 2,
   "id": "11f9e17d",
   "metadata": {},
   "outputs": [
    {
     "data": {
      "text/plain": [
       "'priynka'"
      ]
     },
     "execution_count": 2,
     "metadata": {},
     "output_type": "execute_result"
    }
   ],
   "source": [
    "name"
   ]
  },
  {
   "cell_type": "code",
   "execution_count": 3,
   "id": "63b5de5b",
   "metadata": {},
   "outputs": [
    {
     "data": {
      "text/plain": [
       "7"
      ]
     },
     "execution_count": 3,
     "metadata": {},
     "output_type": "execute_result"
    }
   ],
   "source": [
    "len(name)"
   ]
  },
  {
   "cell_type": "code",
   "execution_count": 4,
   "id": "e54fee23",
   "metadata": {},
   "outputs": [],
   "source": [
    "name=name.capitalize()"
   ]
  },
  {
   "cell_type": "code",
   "execution_count": 5,
   "id": "7b7004f4",
   "metadata": {},
   "outputs": [
    {
     "data": {
      "text/plain": [
       "'Priynka'"
      ]
     },
     "execution_count": 5,
     "metadata": {},
     "output_type": "execute_result"
    }
   ],
   "source": [
    "name"
   ]
  },
  {
   "cell_type": "code",
   "execution_count": 6,
   "id": "8acc6fe7",
   "metadata": {},
   "outputs": [
    {
     "data": {
      "text/plain": [
       "'PRIYNKA'"
      ]
     },
     "execution_count": 6,
     "metadata": {},
     "output_type": "execute_result"
    }
   ],
   "source": [
    "name.upper()"
   ]
  },
  {
   "cell_type": "code",
   "execution_count": 7,
   "id": "744fe89d",
   "metadata": {},
   "outputs": [
    {
     "data": {
      "text/plain": [
       "'priynka'"
      ]
     },
     "execution_count": 7,
     "metadata": {},
     "output_type": "execute_result"
    }
   ],
   "source": [
    "name.lower()"
   ]
  },
  {
   "cell_type": "code",
   "execution_count": 8,
   "id": "dfb28a17",
   "metadata": {},
   "outputs": [
    {
     "data": {
      "text/plain": [
       "'priynka'"
      ]
     },
     "execution_count": 8,
     "metadata": {},
     "output_type": "execute_result"
    }
   ],
   "source": [
    "name.casefold()"
   ]
  },
  {
   "cell_type": "code",
   "execution_count": 9,
   "id": "836508ce",
   "metadata": {},
   "outputs": [
    {
     "data": {
      "text/plain": [
       "False"
      ]
     },
     "execution_count": 9,
     "metadata": {},
     "output_type": "execute_result"
    }
   ],
   "source": [
    "name.isupper()"
   ]
  },
  {
   "cell_type": "code",
   "execution_count": 10,
   "id": "0ffa7993",
   "metadata": {},
   "outputs": [
    {
     "data": {
      "text/plain": [
       "False"
      ]
     },
     "execution_count": 10,
     "metadata": {},
     "output_type": "execute_result"
    }
   ],
   "source": [
    "name.islower()"
   ]
  },
  {
   "cell_type": "code",
   "execution_count": 11,
   "id": "b462092f",
   "metadata": {},
   "outputs": [],
   "source": [
    "name=name.upper()"
   ]
  },
  {
   "cell_type": "code",
   "execution_count": 12,
   "id": "a170bf35",
   "metadata": {},
   "outputs": [
    {
     "data": {
      "text/plain": [
       "'PRIYNKA'"
      ]
     },
     "execution_count": 12,
     "metadata": {},
     "output_type": "execute_result"
    }
   ],
   "source": [
    "name"
   ]
  },
  {
   "cell_type": "code",
   "execution_count": 13,
   "id": "a1a81874",
   "metadata": {},
   "outputs": [
    {
     "data": {
      "text/plain": [
       "True"
      ]
     },
     "execution_count": 13,
     "metadata": {},
     "output_type": "execute_result"
    }
   ],
   "source": [
    "name.isupper()"
   ]
  },
  {
   "cell_type": "code",
   "execution_count": 14,
   "id": "2856014a",
   "metadata": {},
   "outputs": [
    {
     "data": {
      "text/plain": [
       "'priynka'"
      ]
     },
     "execution_count": 14,
     "metadata": {},
     "output_type": "execute_result"
    }
   ],
   "source": [
    "name.casefold()"
   ]
  },
  {
   "cell_type": "code",
   "execution_count": 15,
   "id": "483c158f",
   "metadata": {},
   "outputs": [],
   "source": [
    "address = '''heloo gud morning\n",
    "my name is priyanka shah\n",
    "'''"
   ]
  },
  {
   "cell_type": "code",
   "execution_count": 16,
   "id": "d8e54338",
   "metadata": {},
   "outputs": [
    {
     "data": {
      "text/plain": [
       "'heloo gud morning\\nmy name is priyanka shah\\n'"
      ]
     },
     "execution_count": 16,
     "metadata": {},
     "output_type": "execute_result"
    }
   ],
   "source": [
    "address"
   ]
  },
  {
   "cell_type": "code",
   "execution_count": 17,
   "id": "17cc0d7c",
   "metadata": {},
   "outputs": [
    {
     "data": {
      "text/plain": [
       "'Heloo Gud Morning\\nMy Name Is Priyanka Shah\\n'"
      ]
     },
     "execution_count": 17,
     "metadata": {},
     "output_type": "execute_result"
    }
   ],
   "source": [
    "address.title()"
   ]
  },
  {
   "cell_type": "code",
   "execution_count": 18,
   "id": "309619a7",
   "metadata": {},
   "outputs": [
    {
     "data": {
      "text/plain": [
       "['heloo', 'gud', 'morning', 'my', 'name', 'is', 'priyanka', 'shah']"
      ]
     },
     "execution_count": 18,
     "metadata": {},
     "output_type": "execute_result"
    }
   ],
   "source": [
    "address.split()"
   ]
  },
  {
   "cell_type": "code",
   "execution_count": 20,
   "id": "e0e6d531",
   "metadata": {},
   "outputs": [
    {
     "data": {
      "text/plain": [
       "['hel', '', ' gud m', 'rning\\nmy name is priyanka shah\\n']"
      ]
     },
     "execution_count": 20,
     "metadata": {},
     "output_type": "execute_result"
    }
   ],
   "source": [
    "address.split('o')"
   ]
  },
  {
   "cell_type": "code",
   "execution_count": null,
   "id": "6e3415ab",
   "metadata": {},
   "outputs": [],
   "source": []
  }
 ],
 "metadata": {
  "kernelspec": {
   "display_name": "Python 3 (ipykernel)",
   "language": "python",
   "name": "python3"
  },
  "language_info": {
   "codemirror_mode": {
    "name": "ipython",
    "version": 3
   },
   "file_extension": ".py",
   "mimetype": "text/x-python",
   "name": "python",
   "nbconvert_exporter": "python",
   "pygments_lexer": "ipython3",
   "version": "3.10.9"
  }
 },
 "nbformat": 4,
 "nbformat_minor": 5
}
