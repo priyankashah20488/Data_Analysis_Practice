{
 "cells": [
  {
   "cell_type": "code",
   "execution_count": 1,
   "id": "e61e02f3",
   "metadata": {},
   "outputs": [
    {
     "name": "stdout",
     "output_type": "stream",
     "text": [
      "['__add__', '__class__', '__class_getitem__', '__contains__', '__delattr__', '__delitem__', '__dir__', '__doc__', '__eq__', '__format__', '__ge__', '__getattribute__', '__getitem__', '__gt__', '__hash__', '__iadd__', '__imul__', '__init__', '__init_subclass__', '__iter__', '__le__', '__len__', '__lt__', '__mul__', '__ne__', '__new__', '__reduce__', '__reduce_ex__', '__repr__', '__reversed__', '__rmul__', '__setattr__', '__setitem__', '__sizeof__', '__str__', '__subclasshook__', 'append', 'clear', 'copy', 'count', 'extend', 'index', 'insert', 'pop', 'remove', 'reverse', 'sort']\n"
     ]
    }
   ],
   "source": [
    "print(dir(list))"
   ]
  },
  {
   "cell_type": "code",
   "execution_count": 2,
   "id": "c711050f",
   "metadata": {},
   "outputs": [],
   "source": [
    "#creating list\n",
    "mylist = list()"
   ]
  },
  {
   "cell_type": "code",
   "execution_count": 3,
   "id": "673cccdc",
   "metadata": {},
   "outputs": [
    {
     "data": {
      "text/plain": [
       "[]"
      ]
     },
     "execution_count": 3,
     "metadata": {},
     "output_type": "execute_result"
    }
   ],
   "source": [
    "mylist"
   ]
  },
  {
   "cell_type": "code",
   "execution_count": 4,
   "id": "82cbbc51",
   "metadata": {},
   "outputs": [
    {
     "data": {
      "text/plain": [
       "0"
      ]
     },
     "execution_count": 4,
     "metadata": {},
     "output_type": "execute_result"
    }
   ],
   "source": [
    "len(mylist)"
   ]
  },
  {
   "cell_type": "code",
   "execution_count": 5,
   "id": "2789f95d",
   "metadata": {},
   "outputs": [],
   "source": [
    "mylist.append(2)"
   ]
  },
  {
   "cell_type": "code",
   "execution_count": 7,
   "id": "8dcb447b",
   "metadata": {},
   "outputs": [],
   "source": [
    "mylist.insert(2,34)"
   ]
  },
  {
   "cell_type": "code",
   "execution_count": 8,
   "id": "0ab55929",
   "metadata": {},
   "outputs": [
    {
     "data": {
      "text/plain": [
       "[2, 34]"
      ]
     },
     "execution_count": 8,
     "metadata": {},
     "output_type": "execute_result"
    }
   ],
   "source": [
    "mylist"
   ]
  },
  {
   "cell_type": "code",
   "execution_count": 11,
   "id": "f6511da9",
   "metadata": {},
   "outputs": [],
   "source": [
    "mylist.extend([23,45,56,5])"
   ]
  },
  {
   "cell_type": "code",
   "execution_count": 12,
   "id": "3a4631bf",
   "metadata": {},
   "outputs": [
    {
     "data": {
      "text/plain": [
       "[2, 34, 23, 45, 56, 5]"
      ]
     },
     "execution_count": 12,
     "metadata": {},
     "output_type": "execute_result"
    }
   ],
   "source": [
    "mylist"
   ]
  },
  {
   "cell_type": "code",
   "execution_count": 13,
   "id": "9bff323d",
   "metadata": {},
   "outputs": [
    {
     "data": {
      "text/plain": [
       "6"
      ]
     },
     "execution_count": 13,
     "metadata": {},
     "output_type": "execute_result"
    }
   ],
   "source": [
    "len(mylist)"
   ]
  },
  {
   "cell_type": "code",
   "execution_count": 14,
   "id": "95baf1d5",
   "metadata": {},
   "outputs": [
    {
     "data": {
      "text/plain": [
       "23"
      ]
     },
     "execution_count": 14,
     "metadata": {},
     "output_type": "execute_result"
    }
   ],
   "source": [
    "mylist[2]"
   ]
  },
  {
   "cell_type": "code",
   "execution_count": 15,
   "id": "9253c450",
   "metadata": {},
   "outputs": [],
   "source": [
    "mylist.extend([12,34,56,87,89,78])"
   ]
  },
  {
   "cell_type": "code",
   "execution_count": 16,
   "id": "b0831b2a",
   "metadata": {},
   "outputs": [
    {
     "data": {
      "text/plain": [
       "[2, 34, 23, 45, 56, 5, 12, 34, 56, 87, 89, 78]"
      ]
     },
     "execution_count": 16,
     "metadata": {},
     "output_type": "execute_result"
    }
   ],
   "source": [
    "mylist"
   ]
  },
  {
   "cell_type": "code",
   "execution_count": 17,
   "id": "3f5dd666",
   "metadata": {},
   "outputs": [
    {
     "data": {
      "text/plain": [
       "12"
      ]
     },
     "execution_count": 17,
     "metadata": {},
     "output_type": "execute_result"
    }
   ],
   "source": [
    "len(mylist)"
   ]
  },
  {
   "cell_type": "code",
   "execution_count": 18,
   "id": "650426b5",
   "metadata": {},
   "outputs": [],
   "source": [
    "mylist.insert(13,45)"
   ]
  },
  {
   "cell_type": "code",
   "execution_count": 19,
   "id": "c5bc6b3f",
   "metadata": {},
   "outputs": [
    {
     "data": {
      "text/plain": [
       "[2, 34, 23, 45, 56, 5, 12, 34, 56, 87, 89, 78, 45]"
      ]
     },
     "execution_count": 19,
     "metadata": {},
     "output_type": "execute_result"
    }
   ],
   "source": [
    "mylist"
   ]
  },
  {
   "cell_type": "code",
   "execution_count": 20,
   "id": "efb8197c",
   "metadata": {},
   "outputs": [],
   "source": [
    "mylist.insert(2,76)"
   ]
  },
  {
   "cell_type": "code",
   "execution_count": 22,
   "id": "fb8f8865",
   "metadata": {},
   "outputs": [
    {
     "data": {
      "text/plain": [
       "[2, 34, 76, 23, 45, 56, 5, 12, 34, 56, 87, 89, 78, 45]"
      ]
     },
     "execution_count": 22,
     "metadata": {},
     "output_type": "execute_result"
    }
   ],
   "source": [
    "mylist"
   ]
  },
  {
   "cell_type": "code",
   "execution_count": 23,
   "id": "86dac533",
   "metadata": {},
   "outputs": [
    {
     "data": {
      "text/plain": [
       "45"
      ]
     },
     "execution_count": 23,
     "metadata": {},
     "output_type": "execute_result"
    }
   ],
   "source": [
    "mylist.pop()"
   ]
  },
  {
   "cell_type": "code",
   "execution_count": 25,
   "id": "ea282ebb",
   "metadata": {},
   "outputs": [
    {
     "data": {
      "text/plain": [
       "23"
      ]
     },
     "execution_count": 25,
     "metadata": {},
     "output_type": "execute_result"
    }
   ],
   "source": [
    "mylist.pop(3)"
   ]
  },
  {
   "cell_type": "code",
   "execution_count": 32,
   "id": "fedebbab",
   "metadata": {},
   "outputs": [],
   "source": [
    "mylist.remove(2)"
   ]
  },
  {
   "cell_type": "code",
   "execution_count": 33,
   "id": "d0573afc",
   "metadata": {},
   "outputs": [
    {
     "data": {
      "text/plain": [
       "[78, 89, 87, 56, 34, 12, 5, 56, 45, 76, 34]"
      ]
     },
     "execution_count": 33,
     "metadata": {},
     "output_type": "execute_result"
    }
   ],
   "source": [
    "mylist"
   ]
  },
  {
   "cell_type": "code",
   "execution_count": 34,
   "id": "7757436c",
   "metadata": {},
   "outputs": [],
   "source": [
    "mylist.sort()"
   ]
  },
  {
   "cell_type": "code",
   "execution_count": 35,
   "id": "7d1bedb1",
   "metadata": {},
   "outputs": [
    {
     "data": {
      "text/plain": [
       "[5, 12, 34, 34, 45, 56, 56, 76, 78, 87, 89]"
      ]
     },
     "execution_count": 35,
     "metadata": {},
     "output_type": "execute_result"
    }
   ],
   "source": [
    "mylist"
   ]
  },
  {
   "cell_type": "code",
   "execution_count": 36,
   "id": "f4ce645c",
   "metadata": {},
   "outputs": [],
   "source": [
    "mylist.sort(reverse=True)"
   ]
  },
  {
   "cell_type": "code",
   "execution_count": 37,
   "id": "cbb26e14",
   "metadata": {},
   "outputs": [
    {
     "data": {
      "text/plain": [
       "[89, 87, 78, 76, 56, 56, 45, 34, 34, 12, 5]"
      ]
     },
     "execution_count": 37,
     "metadata": {},
     "output_type": "execute_result"
    }
   ],
   "source": [
    "mylist"
   ]
  },
  {
   "cell_type": "code",
   "execution_count": 39,
   "id": "7752f0ff",
   "metadata": {},
   "outputs": [
    {
     "data": {
      "text/plain": [
       "[1, 12, 21, 23, 23, 34, 45, 56, 78, 90, 456]"
      ]
     },
     "execution_count": 39,
     "metadata": {},
     "output_type": "execute_result"
    }
   ],
   "source": [
    "sorted([23,45,12,34,456,78,56,90,21,23,1])"
   ]
  },
  {
   "cell_type": "code",
   "execution_count": 40,
   "id": "9bf4bf83",
   "metadata": {},
   "outputs": [
    {
     "data": {
      "text/plain": [
       "[90, 67, 56, 45, 34, 34, 12, 12, 2, 1]"
      ]
     },
     "execution_count": 40,
     "metadata": {},
     "output_type": "execute_result"
    }
   ],
   "source": [
    "sorted([34,56,12,34,12,1,2,67,90,45],reverse=True)"
   ]
  },
  {
   "cell_type": "code",
   "execution_count": 41,
   "id": "e2221025",
   "metadata": {},
   "outputs": [
    {
     "data": {
      "text/plain": [
       "['a', 'c', 'g', 'i', 'l', 'o', 'r', 's', 'y']"
      ]
     },
     "execution_count": 41,
     "metadata": {},
     "output_type": "execute_result"
    }
   ],
   "source": [
    "sorted(\"logicrays\")"
   ]
  },
  {
   "cell_type": "code",
   "execution_count": 42,
   "id": "ff58dc3a",
   "metadata": {},
   "outputs": [],
   "source": [
    "a = 5\n",
    "b = a"
   ]
  },
  {
   "cell_type": "code",
   "execution_count": 43,
   "id": "c0b12b37",
   "metadata": {},
   "outputs": [
    {
     "data": {
      "text/plain": [
       "5"
      ]
     },
     "execution_count": 43,
     "metadata": {},
     "output_type": "execute_result"
    }
   ],
   "source": [
    "b"
   ]
  },
  {
   "cell_type": "code",
   "execution_count": 44,
   "id": "816c09ba",
   "metadata": {},
   "outputs": [
    {
     "data": {
      "text/plain": [
       "5"
      ]
     },
     "execution_count": 44,
     "metadata": {},
     "output_type": "execute_result"
    }
   ],
   "source": [
    "a"
   ]
  },
  {
   "cell_type": "code",
   "execution_count": 45,
   "id": "bba5c7fb",
   "metadata": {},
   "outputs": [
    {
     "data": {
      "text/plain": [
       "1985985118576"
      ]
     },
     "execution_count": 45,
     "metadata": {},
     "output_type": "execute_result"
    }
   ],
   "source": [
    "id(a)"
   ]
  },
  {
   "cell_type": "code",
   "execution_count": 46,
   "id": "54b89ca3",
   "metadata": {},
   "outputs": [
    {
     "data": {
      "text/plain": [
       "1985985118576"
      ]
     },
     "execution_count": 46,
     "metadata": {},
     "output_type": "execute_result"
    }
   ],
   "source": [
    "id(b)"
   ]
  },
  {
   "cell_type": "code",
   "execution_count": 47,
   "id": "74724910",
   "metadata": {},
   "outputs": [],
   "source": [
    "a=6"
   ]
  },
  {
   "cell_type": "code",
   "execution_count": 48,
   "id": "a4135f91",
   "metadata": {},
   "outputs": [
    {
     "data": {
      "text/plain": [
       "6"
      ]
     },
     "execution_count": 48,
     "metadata": {},
     "output_type": "execute_result"
    }
   ],
   "source": [
    "a"
   ]
  },
  {
   "cell_type": "code",
   "execution_count": 49,
   "id": "baec6b17",
   "metadata": {},
   "outputs": [
    {
     "data": {
      "text/plain": [
       "5"
      ]
     },
     "execution_count": 49,
     "metadata": {},
     "output_type": "execute_result"
    }
   ],
   "source": [
    "b"
   ]
  },
  {
   "cell_type": "code",
   "execution_count": 50,
   "id": "cdca96ff",
   "metadata": {},
   "outputs": [
    {
     "data": {
      "text/plain": [
       "1985985118608"
      ]
     },
     "execution_count": 50,
     "metadata": {},
     "output_type": "execute_result"
    }
   ],
   "source": [
    "id(a)"
   ]
  },
  {
   "cell_type": "code",
   "execution_count": 51,
   "id": "a226bd3f",
   "metadata": {},
   "outputs": [
    {
     "data": {
      "text/plain": [
       "1985985118576"
      ]
     },
     "execution_count": 51,
     "metadata": {},
     "output_type": "execute_result"
    }
   ],
   "source": [
    "id(b)"
   ]
  },
  {
   "cell_type": "code",
   "execution_count": 52,
   "id": "d57efeef",
   "metadata": {},
   "outputs": [],
   "source": [
    "mylist2 = mylist"
   ]
  },
  {
   "cell_type": "code",
   "execution_count": 53,
   "id": "254b466c",
   "metadata": {},
   "outputs": [
    {
     "data": {
      "text/plain": [
       "[89, 87, 78, 76, 56, 56, 45, 34, 34, 12, 5]"
      ]
     },
     "execution_count": 53,
     "metadata": {},
     "output_type": "execute_result"
    }
   ],
   "source": [
    "mylist2"
   ]
  },
  {
   "cell_type": "code",
   "execution_count": 54,
   "id": "bc9f13ef",
   "metadata": {},
   "outputs": [
    {
     "data": {
      "text/plain": [
       "5"
      ]
     },
     "execution_count": 54,
     "metadata": {},
     "output_type": "execute_result"
    }
   ],
   "source": [
    "mylist.pop()"
   ]
  },
  {
   "cell_type": "code",
   "execution_count": 55,
   "id": "5f99aad3",
   "metadata": {},
   "outputs": [
    {
     "data": {
      "text/plain": [
       "[89, 87, 78, 76, 56, 56, 45, 34, 34, 12]"
      ]
     },
     "execution_count": 55,
     "metadata": {},
     "output_type": "execute_result"
    }
   ],
   "source": [
    "mylist2"
   ]
  },
  {
   "cell_type": "code",
   "execution_count": 56,
   "id": "4e2047b3",
   "metadata": {},
   "outputs": [
    {
     "data": {
      "text/plain": [
       "[89, 87, 78, 76, 56, 56, 45, 34, 34, 12]"
      ]
     },
     "execution_count": 56,
     "metadata": {},
     "output_type": "execute_result"
    }
   ],
   "source": [
    "mylist"
   ]
  },
  {
   "cell_type": "code",
   "execution_count": 57,
   "id": "a6512f30",
   "metadata": {},
   "outputs": [],
   "source": [
    "mylist3 = mylist.copy()"
   ]
  },
  {
   "cell_type": "code",
   "execution_count": 58,
   "id": "f68e9c77",
   "metadata": {},
   "outputs": [
    {
     "data": {
      "text/plain": [
       "[89, 87, 78, 76, 56, 56, 45, 34, 34, 12]"
      ]
     },
     "execution_count": 58,
     "metadata": {},
     "output_type": "execute_result"
    }
   ],
   "source": [
    "mylist3"
   ]
  },
  {
   "cell_type": "code",
   "execution_count": 59,
   "id": "eeb2832f",
   "metadata": {},
   "outputs": [
    {
     "data": {
      "text/plain": [
       "12"
      ]
     },
     "execution_count": 59,
     "metadata": {},
     "output_type": "execute_result"
    }
   ],
   "source": [
    "mylist.pop()"
   ]
  },
  {
   "cell_type": "code",
   "execution_count": 60,
   "id": "70667f37",
   "metadata": {},
   "outputs": [
    {
     "data": {
      "text/plain": [
       "[89, 87, 78, 76, 56, 56, 45, 34, 34]"
      ]
     },
     "execution_count": 60,
     "metadata": {},
     "output_type": "execute_result"
    }
   ],
   "source": [
    "mylist"
   ]
  },
  {
   "cell_type": "code",
   "execution_count": 61,
   "id": "39da566b",
   "metadata": {},
   "outputs": [
    {
     "data": {
      "text/plain": [
       "[89, 87, 78, 76, 56, 56, 45, 34, 34, 12]"
      ]
     },
     "execution_count": 61,
     "metadata": {},
     "output_type": "execute_result"
    }
   ],
   "source": [
    "mylist3"
   ]
  },
  {
   "cell_type": "code",
   "execution_count": 62,
   "id": "a627c5f1",
   "metadata": {},
   "outputs": [],
   "source": [
    "mylist.clear()"
   ]
  },
  {
   "cell_type": "code",
   "execution_count": 63,
   "id": "b6ab9064",
   "metadata": {},
   "outputs": [
    {
     "data": {
      "text/plain": [
       "[]"
      ]
     },
     "execution_count": 63,
     "metadata": {},
     "output_type": "execute_result"
    }
   ],
   "source": [
    "mylist"
   ]
  },
  {
   "cell_type": "code",
   "execution_count": 64,
   "id": "84d6abdc",
   "metadata": {},
   "outputs": [
    {
     "data": {
      "text/plain": [
       "[89, 87, 78, 76, 56, 56, 45, 34, 34, 12]"
      ]
     },
     "execution_count": 64,
     "metadata": {},
     "output_type": "execute_result"
    }
   ],
   "source": [
    "mylist3"
   ]
  },
  {
   "cell_type": "code",
   "execution_count": 65,
   "id": "6af15f29",
   "metadata": {},
   "outputs": [],
   "source": [
    "del mylist"
   ]
  },
  {
   "cell_type": "code",
   "execution_count": 66,
   "id": "4405d129",
   "metadata": {},
   "outputs": [
    {
     "ename": "NameError",
     "evalue": "name 'mylist' is not defined",
     "output_type": "error",
     "traceback": [
      "\u001b[1;31m---------------------------------------------------------------------------\u001b[0m",
      "\u001b[1;31mNameError\u001b[0m                                 Traceback (most recent call last)",
      "Cell \u001b[1;32mIn[66], line 1\u001b[0m\n\u001b[1;32m----> 1\u001b[0m \u001b[43mmylist\u001b[49m\n",
      "\u001b[1;31mNameError\u001b[0m: name 'mylist' is not defined"
     ]
    }
   ],
   "source": [
    "mylist"
   ]
  },
  {
   "cell_type": "code",
   "execution_count": 67,
   "id": "ea7cca12",
   "metadata": {},
   "outputs": [],
   "source": [
    "del mylist3[3]"
   ]
  },
  {
   "cell_type": "code",
   "execution_count": 68,
   "id": "9cfc863b",
   "metadata": {},
   "outputs": [
    {
     "data": {
      "text/plain": [
       "[89, 87, 78, 56, 56, 45, 34, 34, 12]"
      ]
     },
     "execution_count": 68,
     "metadata": {},
     "output_type": "execute_result"
    }
   ],
   "source": [
    "mylist3"
   ]
  },
  {
   "cell_type": "code",
   "execution_count": 73,
   "id": "548e96fb",
   "metadata": {},
   "outputs": [],
   "source": [
    "t = (2,3,5,4,7)"
   ]
  },
  {
   "cell_type": "code",
   "execution_count": 74,
   "id": "8259d8bb",
   "metadata": {},
   "outputs": [
    {
     "data": {
      "text/plain": [
       "(2, 3, 5, 4, 7)"
      ]
     },
     "execution_count": 74,
     "metadata": {},
     "output_type": "execute_result"
    }
   ],
   "source": [
    "t"
   ]
  },
  {
   "cell_type": "code",
   "execution_count": 75,
   "id": "b560e03a",
   "metadata": {},
   "outputs": [
    {
     "data": {
      "text/plain": [
       "tuple"
      ]
     },
     "execution_count": 75,
     "metadata": {},
     "output_type": "execute_result"
    }
   ],
   "source": [
    "type(t)"
   ]
  },
  {
   "cell_type": "code",
   "execution_count": 76,
   "id": "c9b9d8c5",
   "metadata": {},
   "outputs": [
    {
     "name": "stdout",
     "output_type": "stream",
     "text": [
      "['__add__', '__class__', '__class_getitem__', '__contains__', '__delattr__', '__dir__', '__doc__', '__eq__', '__format__', '__ge__', '__getattribute__', '__getitem__', '__getnewargs__', '__gt__', '__hash__', '__init__', '__init_subclass__', '__iter__', '__le__', '__len__', '__lt__', '__mul__', '__ne__', '__new__', '__reduce__', '__reduce_ex__', '__repr__', '__rmul__', '__setattr__', '__sizeof__', '__str__', '__subclasshook__', 'count', 'index']\n"
     ]
    }
   ],
   "source": [
    "print(dir(t))"
   ]
  },
  {
   "cell_type": "code",
   "execution_count": 77,
   "id": "124b7dbe",
   "metadata": {},
   "outputs": [],
   "source": [
    "t = list(t)"
   ]
  },
  {
   "cell_type": "code",
   "execution_count": 78,
   "id": "1b4cc74a",
   "metadata": {},
   "outputs": [
    {
     "data": {
      "text/plain": [
       "list"
      ]
     },
     "execution_count": 78,
     "metadata": {},
     "output_type": "execute_result"
    }
   ],
   "source": [
    "type(t)"
   ]
  },
  {
   "cell_type": "code",
   "execution_count": 79,
   "id": "e45dcc96",
   "metadata": {},
   "outputs": [
    {
     "data": {
      "text/plain": [
       "7"
      ]
     },
     "execution_count": 79,
     "metadata": {},
     "output_type": "execute_result"
    }
   ],
   "source": [
    "t.pop()"
   ]
  },
  {
   "cell_type": "code",
   "execution_count": 80,
   "id": "234bb347",
   "metadata": {},
   "outputs": [],
   "source": [
    "t = tuple(t)"
   ]
  },
  {
   "cell_type": "code",
   "execution_count": 81,
   "id": "a3bbafa6",
   "metadata": {},
   "outputs": [
    {
     "data": {
      "text/plain": [
       "(2, 3, 5, 4)"
      ]
     },
     "execution_count": 81,
     "metadata": {},
     "output_type": "execute_result"
    }
   ],
   "source": [
    "t"
   ]
  },
  {
   "cell_type": "code",
   "execution_count": 82,
   "id": "6619b94d",
   "metadata": {},
   "outputs": [],
   "source": [
    "l = [23]"
   ]
  },
  {
   "cell_type": "code",
   "execution_count": 83,
   "id": "cf9ae2c4",
   "metadata": {},
   "outputs": [
    {
     "data": {
      "text/plain": [
       "[23]"
      ]
     },
     "execution_count": 83,
     "metadata": {},
     "output_type": "execute_result"
    }
   ],
   "source": [
    "l"
   ]
  },
  {
   "cell_type": "code",
   "execution_count": 84,
   "id": "967a8ffd",
   "metadata": {},
   "outputs": [
    {
     "data": {
      "text/plain": [
       "list"
      ]
     },
     "execution_count": 84,
     "metadata": {},
     "output_type": "execute_result"
    }
   ],
   "source": [
    "type(l)"
   ]
  },
  {
   "cell_type": "code",
   "execution_count": 85,
   "id": "e607e5a9",
   "metadata": {},
   "outputs": [],
   "source": [
    "t = (5)"
   ]
  },
  {
   "cell_type": "code",
   "execution_count": 86,
   "id": "2b2f651e",
   "metadata": {},
   "outputs": [
    {
     "data": {
      "text/plain": [
       "int"
      ]
     },
     "execution_count": 86,
     "metadata": {},
     "output_type": "execute_result"
    }
   ],
   "source": [
    "type(t)"
   ]
  },
  {
   "cell_type": "code",
   "execution_count": 87,
   "id": "d40b379c",
   "metadata": {},
   "outputs": [],
   "source": [
    "t = (5,)"
   ]
  },
  {
   "cell_type": "code",
   "execution_count": 88,
   "id": "0c410d0b",
   "metadata": {},
   "outputs": [
    {
     "data": {
      "text/plain": [
       "tuple"
      ]
     },
     "execution_count": 88,
     "metadata": {},
     "output_type": "execute_result"
    }
   ],
   "source": [
    "type(t)"
   ]
  },
  {
   "cell_type": "code",
   "execution_count": 89,
   "id": "ca7ce469",
   "metadata": {},
   "outputs": [
    {
     "data": {
      "text/plain": [
       "[]"
      ]
     },
     "execution_count": 89,
     "metadata": {},
     "output_type": "execute_result"
    }
   ],
   "source": [
    "mylist2"
   ]
  },
  {
   "cell_type": "code",
   "execution_count": 90,
   "id": "af6fff26",
   "metadata": {},
   "outputs": [
    {
     "data": {
      "text/plain": [
       "[89, 87, 78, 56, 56, 45, 34, 34, 12]"
      ]
     },
     "execution_count": 90,
     "metadata": {},
     "output_type": "execute_result"
    }
   ],
   "source": [
    "mylist3"
   ]
  },
  {
   "cell_type": "code",
   "execution_count": 92,
   "id": "b2ea8569",
   "metadata": {},
   "outputs": [
    {
     "data": {
      "text/plain": [
       "[89, 87, 78, 56, 56]"
      ]
     },
     "execution_count": 92,
     "metadata": {},
     "output_type": "execute_result"
    }
   ],
   "source": [
    "mylist3[0:5]"
   ]
  },
  {
   "cell_type": "code",
   "execution_count": 93,
   "id": "aba00d5e",
   "metadata": {},
   "outputs": [
    {
     "data": {
      "text/plain": [
       "[89, 78, 56, 34, 12]"
      ]
     },
     "execution_count": 93,
     "metadata": {},
     "output_type": "execute_result"
    }
   ],
   "source": [
    "mylist3[::2]"
   ]
  },
  {
   "cell_type": "code",
   "execution_count": 94,
   "id": "ab7cb33c",
   "metadata": {},
   "outputs": [
    {
     "data": {
      "text/plain": [
       "[12, 34, 34, 45, 56, 56, 78, 87, 89]"
      ]
     },
     "execution_count": 94,
     "metadata": {},
     "output_type": "execute_result"
    }
   ],
   "source": [
    "mylist3[::-1]"
   ]
  },
  {
   "cell_type": "code",
   "execution_count": 95,
   "id": "b44a7934",
   "metadata": {},
   "outputs": [
    {
     "data": {
      "text/plain": [
       "[89, 78, 56]"
      ]
     },
     "execution_count": 95,
     "metadata": {},
     "output_type": "execute_result"
    }
   ],
   "source": [
    "mylist3[:6:2]"
   ]
  },
  {
   "cell_type": "code",
   "execution_count": 102,
   "id": "6a5ad00e",
   "metadata": {},
   "outputs": [
    {
     "data": {
      "text/plain": [
       "[12, 34, 34, 45, 56]"
      ]
     },
     "execution_count": 102,
     "metadata": {},
     "output_type": "execute_result"
    }
   ],
   "source": [
    "mylist3[8:3:-1]"
   ]
  },
  {
   "cell_type": "code",
   "execution_count": 103,
   "id": "26436fba",
   "metadata": {},
   "outputs": [
    {
     "data": {
      "text/plain": [
       "[12, 34, 34, 45, 56]"
      ]
     },
     "execution_count": 103,
     "metadata": {},
     "output_type": "execute_result"
    }
   ],
   "source": [
    "mylist3[8:3:-1]"
   ]
  },
  {
   "cell_type": "code",
   "execution_count": 1,
   "id": "84323fcd",
   "metadata": {},
   "outputs": [
    {
     "name": "stdout",
     "output_type": "stream",
     "text": [
      "['__class__', '__class_getitem__', '__contains__', '__delattr__', '__delitem__', '__dir__', '__doc__', '__eq__', '__format__', '__ge__', '__getattribute__', '__getitem__', '__gt__', '__hash__', '__init__', '__init_subclass__', '__ior__', '__iter__', '__le__', '__len__', '__lt__', '__ne__', '__new__', '__or__', '__reduce__', '__reduce_ex__', '__repr__', '__reversed__', '__ror__', '__setattr__', '__setitem__', '__sizeof__', '__str__', '__subclasshook__', 'clear', 'copy', 'fromkeys', 'get', 'items', 'keys', 'pop', 'popitem', 'setdefault', 'update', 'values']\n"
     ]
    }
   ],
   "source": [
    "#mapping\n",
    "print(dir(dict))"
   ]
  },
  {
   "cell_type": "code",
   "execution_count": 2,
   "id": "6b25a383",
   "metadata": {},
   "outputs": [],
   "source": [
    "data = {}"
   ]
  },
  {
   "cell_type": "code",
   "execution_count": 4,
   "id": "c6e16d9f",
   "metadata": {},
   "outputs": [
    {
     "data": {
      "text/plain": [
       "'priyanka'"
      ]
     },
     "execution_count": 4,
     "metadata": {},
     "output_type": "execute_result"
    }
   ],
   "source": [
    "data.setdefault('name','priyanka')"
   ]
  },
  {
   "cell_type": "code",
   "execution_count": 5,
   "id": "6c1e2d6c",
   "metadata": {},
   "outputs": [
    {
     "data": {
      "text/plain": [
       "'ahmedabd'"
      ]
     },
     "execution_count": 5,
     "metadata": {},
     "output_type": "execute_result"
    }
   ],
   "source": [
    "data.setdefault('city','ahmedabd')"
   ]
  },
  {
   "cell_type": "code",
   "execution_count": 6,
   "id": "488c9e77",
   "metadata": {},
   "outputs": [],
   "source": [
    "data.setdefault('state')"
   ]
  },
  {
   "cell_type": "code",
   "execution_count": 7,
   "id": "dd654cc0",
   "metadata": {},
   "outputs": [
    {
     "data": {
      "text/plain": [
       "{'name': 'priyanka', 'city': 'ahmedabd', 'state': None}"
      ]
     },
     "execution_count": 7,
     "metadata": {},
     "output_type": "execute_result"
    }
   ],
   "source": [
    "data"
   ]
  },
  {
   "cell_type": "code",
   "execution_count": 8,
   "id": "9292e602",
   "metadata": {},
   "outputs": [],
   "source": [
    "#fromkeys\n",
    "keys = ['name','city','state','country']"
   ]
  },
  {
   "cell_type": "code",
   "execution_count": 9,
   "id": "54bc6cec",
   "metadata": {},
   "outputs": [],
   "source": [
    "info = dict.fromkeys(keys)"
   ]
  },
  {
   "cell_type": "code",
   "execution_count": 10,
   "id": "1f91c0b2",
   "metadata": {},
   "outputs": [
    {
     "data": {
      "text/plain": [
       "{'name': None, 'city': None, 'state': None, 'country': None}"
      ]
     },
     "execution_count": 10,
     "metadata": {},
     "output_type": "execute_result"
    }
   ],
   "source": [
    "info"
   ]
  },
  {
   "cell_type": "code",
   "execution_count": 12,
   "id": "ed689c7a",
   "metadata": {},
   "outputs": [],
   "source": [
    "info['name']='priyanka'"
   ]
  },
  {
   "cell_type": "code",
   "execution_count": 13,
   "id": "d38ad85d",
   "metadata": {},
   "outputs": [],
   "source": [
    "info['name']='kushal'"
   ]
  },
  {
   "cell_type": "code",
   "execution_count": 14,
   "id": "e31baaab",
   "metadata": {},
   "outputs": [
    {
     "data": {
      "text/plain": [
       "{'name': 'kushal', 'city': None, 'state': None, 'country': None}"
      ]
     },
     "execution_count": 14,
     "metadata": {},
     "output_type": "execute_result"
    }
   ],
   "source": [
    "info"
   ]
  },
  {
   "cell_type": "code",
   "execution_count": 15,
   "id": "58d33534",
   "metadata": {},
   "outputs": [
    {
     "data": {
      "text/plain": [
       "'kushal'"
      ]
     },
     "execution_count": 15,
     "metadata": {},
     "output_type": "execute_result"
    }
   ],
   "source": [
    "info.get('name')"
   ]
  },
  {
   "cell_type": "code",
   "execution_count": 16,
   "id": "640a45fd",
   "metadata": {},
   "outputs": [],
   "source": [
    "info.get('city')"
   ]
  },
  {
   "cell_type": "code",
   "execution_count": 17,
   "id": "dbf03730",
   "metadata": {},
   "outputs": [],
   "source": [
    "info.get('address') \n",
    "#not show any error if addressis not exist"
   ]
  },
  {
   "cell_type": "code",
   "execution_count": 18,
   "id": "bc6c0e1c",
   "metadata": {},
   "outputs": [
    {
     "data": {
      "text/plain": [
       "'kushal'"
      ]
     },
     "execution_count": 18,
     "metadata": {},
     "output_type": "execute_result"
    }
   ],
   "source": [
    "info['name']"
   ]
  },
  {
   "cell_type": "code",
   "execution_count": 19,
   "id": "eb47962c",
   "metadata": {},
   "outputs": [
    {
     "ename": "KeyError",
     "evalue": "'address'",
     "output_type": "error",
     "traceback": [
      "\u001b[1;31m---------------------------------------------------------------------------\u001b[0m",
      "\u001b[1;31mKeyError\u001b[0m                                  Traceback (most recent call last)",
      "Cell \u001b[1;32mIn[19], line 1\u001b[0m\n\u001b[1;32m----> 1\u001b[0m \u001b[43minfo\u001b[49m\u001b[43m[\u001b[49m\u001b[38;5;124;43m'\u001b[39;49m\u001b[38;5;124;43maddress\u001b[39;49m\u001b[38;5;124;43m'\u001b[39;49m\u001b[43m]\u001b[49m\n",
      "\u001b[1;31mKeyError\u001b[0m: 'address'"
     ]
    }
   ],
   "source": [
    "info['address']\n",
    "#get value using object[key]\n",
    "#it show error if not exist"
   ]
  },
  {
   "cell_type": "code",
   "execution_count": 20,
   "id": "dff6e92a",
   "metadata": {},
   "outputs": [
    {
     "data": {
      "text/plain": [
       "dict_keys(['name', 'city', 'state'])"
      ]
     },
     "execution_count": 20,
     "metadata": {},
     "output_type": "execute_result"
    }
   ],
   "source": [
    "data.keys()"
   ]
  },
  {
   "cell_type": "code",
   "execution_count": 21,
   "id": "2a0be0f4",
   "metadata": {},
   "outputs": [
    {
     "data": {
      "text/plain": [
       "dict_values(['priyanka', 'ahmedabd', None])"
      ]
     },
     "execution_count": 21,
     "metadata": {},
     "output_type": "execute_result"
    }
   ],
   "source": [
    "data.values()"
   ]
  },
  {
   "cell_type": "code",
   "execution_count": 22,
   "id": "e663ba53",
   "metadata": {},
   "outputs": [
    {
     "data": {
      "text/plain": [
       "dict_items([('name', 'priyanka'), ('city', 'ahmedabd'), ('state', None)])"
      ]
     },
     "execution_count": 22,
     "metadata": {},
     "output_type": "execute_result"
    }
   ],
   "source": [
    "data.items()"
   ]
  },
  {
   "cell_type": "code",
   "execution_count": 23,
   "id": "9e11dfe6",
   "metadata": {},
   "outputs": [
    {
     "ename": "TypeError",
     "evalue": "pop expected at least 1 argument, got 0",
     "output_type": "error",
     "traceback": [
      "\u001b[1;31m---------------------------------------------------------------------------\u001b[0m",
      "\u001b[1;31mTypeError\u001b[0m                                 Traceback (most recent call last)",
      "Cell \u001b[1;32mIn[23], line 1\u001b[0m\n\u001b[1;32m----> 1\u001b[0m \u001b[43mdata\u001b[49m\u001b[38;5;241;43m.\u001b[39;49m\u001b[43mpop\u001b[49m\u001b[43m(\u001b[49m\u001b[43m)\u001b[49m\n",
      "\u001b[1;31mTypeError\u001b[0m: pop expected at least 1 argument, got 0"
     ]
    }
   ],
   "source": [
    "data.pop()\n",
    "# we have to give name of items keys"
   ]
  },
  {
   "cell_type": "code",
   "execution_count": 24,
   "id": "acc49b45",
   "metadata": {},
   "outputs": [],
   "source": [
    "data.pop('state')"
   ]
  },
  {
   "cell_type": "code",
   "execution_count": 25,
   "id": "3218d538",
   "metadata": {},
   "outputs": [
    {
     "data": {
      "text/plain": [
       "dict_items([('name', 'priyanka'), ('city', 'ahmedabd')])"
      ]
     },
     "execution_count": 25,
     "metadata": {},
     "output_type": "execute_result"
    }
   ],
   "source": [
    "data.items()"
   ]
  },
  {
   "cell_type": "code",
   "execution_count": 26,
   "id": "98585513",
   "metadata": {},
   "outputs": [
    {
     "data": {
      "text/plain": [
       "('city', 'ahmedabd')"
      ]
     },
     "execution_count": 26,
     "metadata": {},
     "output_type": "execute_result"
    }
   ],
   "source": [
    "data.popitem() \n",
    "# using popitem() it will remove last key n its value"
   ]
  },
  {
   "cell_type": "code",
   "execution_count": 27,
   "id": "87a56fa8",
   "metadata": {},
   "outputs": [
    {
     "data": {
      "text/plain": [
       "{'name': 'priyanka'}"
      ]
     },
     "execution_count": 27,
     "metadata": {},
     "output_type": "execute_result"
    }
   ],
   "source": [
    "data"
   ]
  },
  {
   "cell_type": "code",
   "execution_count": 30,
   "id": "83ab57f9",
   "metadata": {},
   "outputs": [],
   "source": [
    "# set\n",
    "myset = {1,3,2,23,3,43,22,3,6,8,9,445,989}"
   ]
  },
  {
   "cell_type": "code",
   "execution_count": 31,
   "id": "113d75e4",
   "metadata": {},
   "outputs": [
    {
     "data": {
      "text/plain": [
       "{1, 2, 3, 6, 8, 9, 22, 23, 43, 445, 989}"
      ]
     },
     "execution_count": 31,
     "metadata": {},
     "output_type": "execute_result"
    }
   ],
   "source": [
    "myset"
   ]
  },
  {
   "cell_type": "code",
   "execution_count": 32,
   "id": "417e51fe",
   "metadata": {},
   "outputs": [],
   "source": [
    "myset.add(2)"
   ]
  },
  {
   "cell_type": "code",
   "execution_count": 33,
   "id": "3b138058",
   "metadata": {},
   "outputs": [
    {
     "data": {
      "text/plain": [
       "{1, 2, 3, 6, 8, 9, 22, 23, 43, 445, 989}"
      ]
     },
     "execution_count": 33,
     "metadata": {},
     "output_type": "execute_result"
    }
   ],
   "source": [
    "myset"
   ]
  },
  {
   "cell_type": "code",
   "execution_count": 34,
   "id": "9774bc9f",
   "metadata": {},
   "outputs": [],
   "source": [
    "myset.add(54)"
   ]
  },
  {
   "cell_type": "code",
   "execution_count": 35,
   "id": "53a49cf5",
   "metadata": {},
   "outputs": [
    {
     "data": {
      "text/plain": [
       "{1, 2, 3, 6, 8, 9, 22, 23, 43, 54, 445, 989}"
      ]
     },
     "execution_count": 35,
     "metadata": {},
     "output_type": "execute_result"
    }
   ],
   "source": [
    "myset"
   ]
  },
  {
   "cell_type": "code",
   "execution_count": 36,
   "id": "a181e30f",
   "metadata": {},
   "outputs": [
    {
     "data": {
      "text/plain": [
       "{1, 2, 3, 8, 9, 22, 23, 43, 54, 445, 989}"
      ]
     },
     "execution_count": 36,
     "metadata": {},
     "output_type": "execute_result"
    }
   ],
   "source": [
    "myset.difference({4,6,7})"
   ]
  },
  {
   "cell_type": "code",
   "execution_count": 37,
   "id": "8bbb8401",
   "metadata": {},
   "outputs": [],
   "source": [
    "myset.discard(9)"
   ]
  },
  {
   "cell_type": "code",
   "execution_count": 38,
   "id": "1809bab5",
   "metadata": {},
   "outputs": [
    {
     "data": {
      "text/plain": [
       "{1, 2, 3, 6, 8, 22, 23, 43, 54, 445, 989}"
      ]
     },
     "execution_count": 38,
     "metadata": {},
     "output_type": "execute_result"
    }
   ],
   "source": [
    "myset"
   ]
  },
  {
   "cell_type": "code",
   "execution_count": 39,
   "id": "8928b91a",
   "metadata": {},
   "outputs": [
    {
     "data": {
      "text/plain": [
       "{3, 6}"
      ]
     },
     "execution_count": 39,
     "metadata": {},
     "output_type": "execute_result"
    }
   ],
   "source": [
    "myset.intersection({3,6,5})"
   ]
  },
  {
   "cell_type": "code",
   "execution_count": 40,
   "id": "a83a7e3f",
   "metadata": {},
   "outputs": [
    {
     "data": {
      "text/plain": [
       "False"
      ]
     },
     "execution_count": 40,
     "metadata": {},
     "output_type": "execute_result"
    }
   ],
   "source": [
    "#any of the value can not be exist in set thanshow TRUE\n",
    "# if any of the value exist in set than shows false\n",
    "myset.isdisjoint({3,5,7})"
   ]
  },
  {
   "cell_type": "code",
   "execution_count": 41,
   "id": "3abef501",
   "metadata": {},
   "outputs": [
    {
     "data": {
      "text/plain": [
       "False"
      ]
     },
     "execution_count": 41,
     "metadata": {},
     "output_type": "execute_result"
    }
   ],
   "source": [
    "myset.isdisjoint({3,1,22})"
   ]
  },
  {
   "cell_type": "code",
   "execution_count": 42,
   "id": "d0914f66",
   "metadata": {},
   "outputs": [
    {
     "data": {
      "text/plain": [
       "True"
      ]
     },
     "execution_count": 42,
     "metadata": {},
     "output_type": "execute_result"
    }
   ],
   "source": [
    "myset.isdisjoint({4,55,67})"
   ]
  },
  {
   "cell_type": "code",
   "execution_count": 43,
   "id": "02fdd4d7",
   "metadata": {},
   "outputs": [
    {
     "data": {
      "text/plain": [
       "False"
      ]
     },
     "execution_count": 43,
     "metadata": {},
     "output_type": "execute_result"
    }
   ],
   "source": [
    "{2,5,3}.issubset(myset)"
   ]
  },
  {
   "cell_type": "code",
   "execution_count": 44,
   "id": "a80e4706",
   "metadata": {},
   "outputs": [
    {
     "data": {
      "text/plain": [
       "True"
      ]
     },
     "execution_count": 44,
     "metadata": {},
     "output_type": "execute_result"
    }
   ],
   "source": [
    "{2,6,8}.issubset(myset)"
   ]
  },
  {
   "cell_type": "code",
   "execution_count": 45,
   "id": "34a927a0",
   "metadata": {},
   "outputs": [
    {
     "data": {
      "text/plain": [
       "False"
      ]
     },
     "execution_count": 45,
     "metadata": {},
     "output_type": "execute_result"
    }
   ],
   "source": [
    "myset.issuperset({2,4,5})"
   ]
  },
  {
   "cell_type": "code",
   "execution_count": 46,
   "id": "87a27f8c",
   "metadata": {},
   "outputs": [
    {
     "data": {
      "text/plain": [
       "True"
      ]
     },
     "execution_count": 46,
     "metadata": {},
     "output_type": "execute_result"
    }
   ],
   "source": [
    "myset.issuperset({1,2,3})"
   ]
  },
  {
   "cell_type": "code",
   "execution_count": 47,
   "id": "3910bff7",
   "metadata": {},
   "outputs": [
    {
     "data": {
      "text/plain": [
       "1"
      ]
     },
     "execution_count": 47,
     "metadata": {},
     "output_type": "execute_result"
    }
   ],
   "source": [
    "#it will remove from 1 index\n",
    "myset.pop()"
   ]
  },
  {
   "cell_type": "code",
   "execution_count": 48,
   "id": "a40dd99a",
   "metadata": {},
   "outputs": [
    {
     "data": {
      "text/plain": [
       "{2, 3, 6, 8, 22, 23, 43, 54, 445, 989}"
      ]
     },
     "execution_count": 48,
     "metadata": {},
     "output_type": "execute_result"
    }
   ],
   "source": [
    "myset"
   ]
  },
  {
   "cell_type": "raw",
   "id": "c4eae69d",
   "metadata": {},
   "source": [
    "# remove(value) we have to specify value\n",
    "myset.remove(8)"
   ]
  },
  {
   "cell_type": "code",
   "execution_count": 50,
   "id": "d82f1a32",
   "metadata": {},
   "outputs": [
    {
     "data": {
      "text/plain": [
       "{2, 3, 6, 22, 23, 43, 54, 445, 989}"
      ]
     },
     "execution_count": 50,
     "metadata": {},
     "output_type": "execute_result"
    }
   ],
   "source": [
    "myset"
   ]
  },
  {
   "cell_type": "code",
   "execution_count": 51,
   "id": "ac878358",
   "metadata": {},
   "outputs": [
    {
     "ename": "KeyError",
     "evalue": "1",
     "output_type": "error",
     "traceback": [
      "\u001b[1;31m---------------------------------------------------------------------------\u001b[0m",
      "\u001b[1;31mKeyError\u001b[0m                                  Traceback (most recent call last)",
      "Cell \u001b[1;32mIn[51], line 1\u001b[0m\n\u001b[1;32m----> 1\u001b[0m \u001b[43mmyset\u001b[49m\u001b[38;5;241;43m.\u001b[39;49m\u001b[43mremove\u001b[49m\u001b[43m(\u001b[49m\u001b[38;5;241;43m1\u001b[39;49m\u001b[43m)\u001b[49m\n",
      "\u001b[1;31mKeyError\u001b[0m: 1"
     ]
    }
   ],
   "source": [
    "myset.remove(1)\n",
    "#if value is not find in set than shows error"
   ]
  },
  {
   "cell_type": "code",
   "execution_count": 52,
   "id": "338d1328",
   "metadata": {},
   "outputs": [
    {
     "data": {
      "text/plain": [
       "{3, 5, 6, 22, 23, 43, 54, 90, 445, 989}"
      ]
     },
     "execution_count": 52,
     "metadata": {},
     "output_type": "execute_result"
    }
   ],
   "source": [
    "myset.symmetric_difference({2,5,90})\n",
    "#if value is exist in both set than it will not show "
   ]
  },
  {
   "cell_type": "code",
   "execution_count": 53,
   "id": "a937bf5e",
   "metadata": {},
   "outputs": [
    {
     "data": {
      "text/plain": [
       "{1, 2, 3, 6, 22, 23, 43, 54, 67, 445, 989}"
      ]
     },
     "execution_count": 53,
     "metadata": {},
     "output_type": "execute_result"
    }
   ],
   "source": [
    "myset.union({67,23,1})"
   ]
  },
  {
   "cell_type": "code",
   "execution_count": 57,
   "id": "d557f1b3",
   "metadata": {},
   "outputs": [
    {
     "data": {
      "text/plain": [
       "{2, 3, 6, 12, 22, 23, 43, 54, 56, 445, 989}"
      ]
     },
     "execution_count": 57,
     "metadata": {},
     "output_type": "execute_result"
    }
   ],
   "source": [
    "myset"
   ]
  },
  {
   "cell_type": "code",
   "execution_count": 58,
   "id": "f20a5cf4",
   "metadata": {},
   "outputs": [
    {
     "data": {
      "text/plain": [
       "{2, 3, 6, 12, 22, 23, 43, 54, 56, 445, 989}"
      ]
     },
     "execution_count": 58,
     "metadata": {},
     "output_type": "execute_result"
    }
   ],
   "source": [
    "myset"
   ]
  },
  {
   "cell_type": "code",
   "execution_count": 59,
   "id": "6dd29495",
   "metadata": {},
   "outputs": [
    {
     "data": {
      "text/plain": [
       "{2, 3, 6, 12, 22, 23, 34, 43, 54, 56, 76, 89, 445, 989}"
      ]
     },
     "execution_count": 59,
     "metadata": {},
     "output_type": "execute_result"
    }
   ],
   "source": [
    "myset.union({34,76,89})"
   ]
  },
  {
   "cell_type": "code",
   "execution_count": 60,
   "id": "86565a32",
   "metadata": {},
   "outputs": [
    {
     "data": {
      "text/plain": [
       "{2, 3, 6, 12, 22, 23, 43, 54, 56, 445, 989}"
      ]
     },
     "execution_count": 60,
     "metadata": {},
     "output_type": "execute_result"
    }
   ],
   "source": [
    "myset"
   ]
  },
  {
   "cell_type": "code",
   "execution_count": 61,
   "id": "45b909bb",
   "metadata": {},
   "outputs": [],
   "source": [
    "myset.update({23,456,67})"
   ]
  },
  {
   "cell_type": "code",
   "execution_count": 62,
   "id": "a4e7f0fd",
   "metadata": {},
   "outputs": [
    {
     "data": {
      "text/plain": [
       "{2, 3, 6, 12, 22, 23, 43, 54, 56, 67, 445, 456, 989}"
      ]
     },
     "execution_count": 62,
     "metadata": {},
     "output_type": "execute_result"
    }
   ],
   "source": [
    "myset"
   ]
  },
  {
   "cell_type": "code",
   "execution_count": null,
   "id": "70ecf6d2",
   "metadata": {},
   "outputs": [],
   "source": []
  }
 ],
 "metadata": {
  "kernelspec": {
   "display_name": "Python 3 (ipykernel)",
   "language": "python",
   "name": "python3"
  },
  "language_info": {
   "codemirror_mode": {
    "name": "ipython",
    "version": 3
   },
   "file_extension": ".py",
   "mimetype": "text/x-python",
   "name": "python",
   "nbconvert_exporter": "python",
   "pygments_lexer": "ipython3",
   "version": "3.10.9"
  }
 },
 "nbformat": 4,
 "nbformat_minor": 5
}
