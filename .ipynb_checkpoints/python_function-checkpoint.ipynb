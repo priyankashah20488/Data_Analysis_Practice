{
 "cells": [
  {
   "cell_type": "code",
   "execution_count": 5,
   "id": "0dae9d98",
   "metadata": {},
   "outputs": [],
   "source": [
    "def xyz():\n",
    "    print(\"this is my 1st function\")"
   ]
  },
  {
   "cell_type": "code",
   "execution_count": 3,
   "id": "45b3f715",
   "metadata": {},
   "outputs": [
    {
     "data": {
      "text/plain": [
       "function"
      ]
     },
     "execution_count": 3,
     "metadata": {},
     "output_type": "execute_result"
    }
   ],
   "source": [
    "type(xyz)"
   ]
  },
  {
   "cell_type": "code",
   "execution_count": 6,
   "id": "27529c44",
   "metadata": {},
   "outputs": [
    {
     "name": "stdout",
     "output_type": "stream",
     "text": [
      "this is my 1st function\n"
     ]
    }
   ],
   "source": [
    "xyz()"
   ]
  },
  {
   "cell_type": "code",
   "execution_count": 8,
   "id": "1ab142d8",
   "metadata": {},
   "outputs": [
    {
     "data": {
      "text/plain": [
       "'xyz'"
      ]
     },
     "execution_count": 8,
     "metadata": {},
     "output_type": "execute_result"
    }
   ],
   "source": [
    "xyz.__name__"
   ]
  },
  {
   "cell_type": "code",
   "execution_count": 12,
   "id": "197a92ab",
   "metadata": {},
   "outputs": [],
   "source": [
    "abc = xyz"
   ]
  },
  {
   "cell_type": "code",
   "execution_count": 13,
   "id": "b6a1e06f",
   "metadata": {},
   "outputs": [
    {
     "data": {
      "text/plain": [
       "'xyz'"
      ]
     },
     "execution_count": 13,
     "metadata": {},
     "output_type": "execute_result"
    }
   ],
   "source": [
    "abc.__name__"
   ]
  },
  {
   "cell_type": "code",
   "execution_count": 14,
   "id": "115221f2",
   "metadata": {},
   "outputs": [
    {
     "name": "stdout",
     "output_type": "stream",
     "text": [
      "this is my 1st function\n"
     ]
    }
   ],
   "source": [
    "abc()"
   ]
  },
  {
   "cell_type": "code",
   "execution_count": 15,
   "id": "46bdcab2",
   "metadata": {},
   "outputs": [
    {
     "data": {
      "text/plain": [
       "<function __main__.xyz()>"
      ]
     },
     "execution_count": 15,
     "metadata": {},
     "output_type": "execute_result"
    }
   ],
   "source": [
    "abc"
   ]
  },
  {
   "cell_type": "code",
   "execution_count": 16,
   "id": "a4c772e6",
   "metadata": {},
   "outputs": [
    {
     "data": {
      "text/plain": [
       "function"
      ]
     },
     "execution_count": 16,
     "metadata": {},
     "output_type": "execute_result"
    }
   ],
   "source": [
    "type(abc)"
   ]
  },
  {
   "cell_type": "code",
   "execution_count": 21,
   "id": "5760cf7a",
   "metadata": {},
   "outputs": [
    {
     "data": {
      "text/plain": [
       "False"
      ]
     },
     "execution_count": 21,
     "metadata": {},
     "output_type": "execute_result"
    }
   ],
   "source": [
    "xyz.__name__ ==\"__main__\""
   ]
  },
  {
   "cell_type": "code",
   "execution_count": 22,
   "id": "18ea2219",
   "metadata": {},
   "outputs": [
    {
     "name": "stdout",
     "output_type": "stream",
     "text": [
      "this is my 1st function\n"
     ]
    }
   ],
   "source": [
    "a=xyz()"
   ]
  },
  {
   "cell_type": "code",
   "execution_count": 23,
   "id": "63153849",
   "metadata": {},
   "outputs": [],
   "source": [
    "a"
   ]
  },
  {
   "cell_type": "code",
   "execution_count": 24,
   "id": "f0276b6a",
   "metadata": {},
   "outputs": [
    {
     "data": {
      "text/plain": [
       "NoneType"
      ]
     },
     "execution_count": 24,
     "metadata": {},
     "output_type": "execute_result"
    }
   ],
   "source": [
    "type(a)"
   ]
  },
  {
   "cell_type": "code",
   "execution_count": 25,
   "id": "6061f47d",
   "metadata": {},
   "outputs": [],
   "source": [
    "def xyz():\n",
    "    return \"my name is error\""
   ]
  },
  {
   "cell_type": "code",
   "execution_count": 26,
   "id": "b98e0895",
   "metadata": {},
   "outputs": [
    {
     "data": {
      "text/plain": [
       "<function __main__.xyz()>"
      ]
     },
     "execution_count": 26,
     "metadata": {},
     "output_type": "execute_result"
    }
   ],
   "source": [
    "xyz"
   ]
  },
  {
   "cell_type": "code",
   "execution_count": 27,
   "id": "fa1e1f05",
   "metadata": {},
   "outputs": [
    {
     "data": {
      "text/plain": [
       "'my name is error'"
      ]
     },
     "execution_count": 27,
     "metadata": {},
     "output_type": "execute_result"
    }
   ],
   "source": [
    "xyz()"
   ]
  },
  {
   "cell_type": "code",
   "execution_count": 28,
   "id": "5ad0eeaf",
   "metadata": {},
   "outputs": [],
   "source": [
    "a = xyz()"
   ]
  },
  {
   "cell_type": "code",
   "execution_count": 29,
   "id": "5387cc97",
   "metadata": {},
   "outputs": [
    {
     "data": {
      "text/plain": [
       "'my name is error'"
      ]
     },
     "execution_count": 29,
     "metadata": {},
     "output_type": "execute_result"
    }
   ],
   "source": [
    "a"
   ]
  },
  {
   "cell_type": "code",
   "execution_count": 30,
   "id": "283874ae",
   "metadata": {},
   "outputs": [
    {
     "data": {
      "text/plain": [
       "str"
      ]
     },
     "execution_count": 30,
     "metadata": {},
     "output_type": "execute_result"
    }
   ],
   "source": [
    "type(a)"
   ]
  },
  {
   "cell_type": "code",
   "execution_count": 31,
   "id": "1e884057",
   "metadata": {},
   "outputs": [],
   "source": [
    "def even_num(x):\n",
    "    return x%2==0"
   ]
  },
  {
   "cell_type": "code",
   "execution_count": 32,
   "id": "31a8606a",
   "metadata": {},
   "outputs": [
    {
     "data": {
      "text/plain": [
       "False"
      ]
     },
     "execution_count": 32,
     "metadata": {},
     "output_type": "execute_result"
    }
   ],
   "source": [
    "even_num(23)"
   ]
  },
  {
   "cell_type": "code",
   "execution_count": 33,
   "id": "6c647e0e",
   "metadata": {},
   "outputs": [
    {
     "data": {
      "text/plain": [
       "True"
      ]
     },
     "execution_count": 33,
     "metadata": {},
     "output_type": "execute_result"
    }
   ],
   "source": [
    "even_num(22)"
   ]
  },
  {
   "cell_type": "code",
   "execution_count": 34,
   "id": "4309b84b",
   "metadata": {},
   "outputs": [],
   "source": [
    "def add(x,y,z):\n",
    "    return x+y+z"
   ]
  },
  {
   "cell_type": "code",
   "execution_count": 35,
   "id": "e308ec9c",
   "metadata": {},
   "outputs": [
    {
     "data": {
      "text/plain": [
       "11"
      ]
     },
     "execution_count": 35,
     "metadata": {},
     "output_type": "execute_result"
    }
   ],
   "source": [
    "add(2,4,5)"
   ]
  },
  {
   "cell_type": "code",
   "execution_count": 36,
   "id": "7bf5f3ba",
   "metadata": {},
   "outputs": [
    {
     "data": {
      "text/plain": [
       "114.0"
      ]
     },
     "execution_count": 36,
     "metadata": {},
     "output_type": "execute_result"
    }
   ],
   "source": [
    "add(23.4,45.6,45)"
   ]
  },
  {
   "cell_type": "code",
   "execution_count": 37,
   "id": "8375a884",
   "metadata": {},
   "outputs": [],
   "source": [
    "def add(x,y,z=0):\n",
    "    return x+y+z"
   ]
  },
  {
   "cell_type": "code",
   "execution_count": 38,
   "id": "dc67e566",
   "metadata": {},
   "outputs": [
    {
     "data": {
      "text/plain": [
       "57"
      ]
     },
     "execution_count": 38,
     "metadata": {},
     "output_type": "execute_result"
    }
   ],
   "source": [
    "add(34,23)"
   ]
  },
  {
   "cell_type": "code",
   "execution_count": 39,
   "id": "2a35ee8b",
   "metadata": {},
   "outputs": [
    {
     "data": {
      "text/plain": [
       "157"
      ]
     },
     "execution_count": 39,
     "metadata": {},
     "output_type": "execute_result"
    }
   ],
   "source": [
    "add(23,45,89)"
   ]
  },
  {
   "cell_type": "code",
   "execution_count": 2,
   "id": "799c7b9d",
   "metadata": {},
   "outputs": [],
   "source": [
    "def add(x,y,*num):\n",
    "    s = x+y\n",
    "    for i in num:\n",
    "        s+=i\n",
    "    return s"
   ]
  },
  {
   "cell_type": "code",
   "execution_count": 47,
   "id": "5db3c3a2",
   "metadata": {},
   "outputs": [
    {
     "data": {
      "text/plain": [
       "135"
      ]
     },
     "execution_count": 47,
     "metadata": {},
     "output_type": "execute_result"
    }
   ],
   "source": [
    "add(23,56,56,45,3,23,23)"
   ]
  },
  {
   "cell_type": "code",
   "execution_count": 48,
   "id": "4a194824",
   "metadata": {},
   "outputs": [
    {
     "data": {
      "text/plain": [
       "113"
      ]
     },
     "execution_count": 48,
     "metadata": {},
     "output_type": "execute_result"
    }
   ],
   "source": [
    "add(23,34,56,67,34)"
   ]
  },
  {
   "cell_type": "code",
   "execution_count": 3,
   "id": "426fc20f",
   "metadata": {},
   "outputs": [
    {
     "data": {
      "text/plain": [
       "6"
      ]
     },
     "execution_count": 3,
     "metadata": {},
     "output_type": "execute_result"
    }
   ],
   "source": [
    "add(2,4)"
   ]
  },
  {
   "cell_type": "code",
   "execution_count": 4,
   "id": "111ecd25",
   "metadata": {},
   "outputs": [
    {
     "data": {
      "text/plain": [
       "79"
      ]
     },
     "execution_count": 4,
     "metadata": {},
     "output_type": "execute_result"
    }
   ],
   "source": [
    "add(34,45)"
   ]
  },
  {
   "cell_type": "code",
   "execution_count": 53,
   "id": "d63ff629",
   "metadata": {},
   "outputs": [
    {
     "data": {
      "text/plain": [
       "124"
      ]
     },
     "execution_count": 53,
     "metadata": {},
     "output_type": "execute_result"
    }
   ],
   "source": [
    "add(23,45,56,56,23,12)"
   ]
  },
  {
   "cell_type": "code",
   "execution_count": 1,
   "id": "7e7b416f",
   "metadata": {},
   "outputs": [],
   "source": [
    "def multi_num(x,y,*num):\n",
    "    a = x*y\n",
    "    for i in num:\n",
    "        a*=i\n",
    "    return a"
   ]
  },
  {
   "cell_type": "code",
   "execution_count": 58,
   "id": "9e3fa610",
   "metadata": {},
   "outputs": [
    {
     "data": {
      "text/plain": [
       "360"
      ]
     },
     "execution_count": 58,
     "metadata": {},
     "output_type": "execute_result"
    }
   ],
   "source": [
    "multi_num(2,4,45,6)"
   ]
  },
  {
   "cell_type": "code",
   "execution_count": 65,
   "id": "4f75ce5b",
   "metadata": {},
   "outputs": [],
   "source": [
    "def info(name,age,**detail):\n",
    "    data = {'name':name,'age':age}\n",
    "    return data"
   ]
  },
  {
   "cell_type": "code",
   "execution_count": 69,
   "id": "5a58b748",
   "metadata": {},
   "outputs": [
    {
     "data": {
      "text/plain": [
       "{'name': 'priyanka', 'age': 32}"
      ]
     },
     "execution_count": 69,
     "metadata": {},
     "output_type": "execute_result"
    }
   ],
   "source": [
    "info('priyanka',32,city='ahmedabad')"
   ]
  },
  {
   "cell_type": "code",
   "execution_count": null,
   "id": "299e9a89",
   "metadata": {},
   "outputs": [],
   "source": [
    "def info(name,age,**detail):\n",
    "    data = {'name':name,'age':age}\n",
    "    data.update(detail)\n",
    "    return data"
   ]
  },
  {
   "cell_type": "code",
   "execution_count": 70,
   "id": "99c7d4c1",
   "metadata": {},
   "outputs": [
    {
     "data": {
      "text/plain": [
       "{'name': 'priyanka', 'age': 32}"
      ]
     },
     "execution_count": 70,
     "metadata": {},
     "output_type": "execute_result"
    }
   ],
   "source": [
    "info('priyanka',32,city='ahmedabad')"
   ]
  },
  {
   "cell_type": "code",
   "execution_count": 72,
   "id": "9ffd84f3",
   "metadata": {},
   "outputs": [
    {
     "data": {
      "text/plain": [
       "{'name': 'kushal', 'age': 30}"
      ]
     },
     "execution_count": 72,
     "metadata": {},
     "output_type": "execute_result"
    }
   ],
   "source": [
    "info('kushal',30)"
   ]
  },
  {
   "cell_type": "code",
   "execution_count": 73,
   "id": "2b30982b",
   "metadata": {},
   "outputs": [],
   "source": [
    "def add(x:int,y:int):\n",
    "    return x+y"
   ]
  },
  {
   "cell_type": "code",
   "execution_count": 74,
   "id": "eae52459",
   "metadata": {},
   "outputs": [
    {
     "data": {
      "text/plain": [
       "66"
      ]
     },
     "execution_count": 74,
     "metadata": {},
     "output_type": "execute_result"
    }
   ],
   "source": [
    "add(23,43)"
   ]
  },
  {
   "cell_type": "code",
   "execution_count": 75,
   "id": "eefbb5f0",
   "metadata": {},
   "outputs": [
    {
     "data": {
      "text/plain": [
       "'sr'"
      ]
     },
     "execution_count": 75,
     "metadata": {},
     "output_type": "execute_result"
    }
   ],
   "source": [
    "add('s','r')"
   ]
  },
  {
   "cell_type": "code",
   "execution_count": null,
   "id": "5f3a1f6e",
   "metadata": {},
   "outputs": [],
   "source": []
  }
 ],
 "metadata": {
  "kernelspec": {
   "display_name": "Python 3 (ipykernel)",
   "language": "python",
   "name": "python3"
  },
  "language_info": {
   "codemirror_mode": {
    "name": "ipython",
    "version": 3
   },
   "file_extension": ".py",
   "mimetype": "text/x-python",
   "name": "python",
   "nbconvert_exporter": "python",
   "pygments_lexer": "ipython3",
   "version": "3.10.9"
  }
 },
 "nbformat": 4,
 "nbformat_minor": 5
}
